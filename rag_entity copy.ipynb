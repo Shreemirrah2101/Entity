{
 "cells": [
  {
   "cell_type": "code",
   "execution_count": 1,
   "metadata": {},
   "outputs": [],
   "source": [
    "from llama_index.core import VectorStoreIndex,SimpleDirectoryReader\n",
    "from llama_index.llms.azure_openai import AzureOpenAI\n",
    "from llama_index.embeddings.azure_openai import AzureOpenAIEmbedding\n",
    "from llama_index.core import Settings\n",
    "from llama_index.core import StorageContext, load_index_from_storage\n",
    "from llama_index.core.prompts import PromptTemplate\n",
    "from llama_index.core import get_response_synthesizer\n",
    "from llama_index.core.retrievers import VectorIndexRetriever\n",
    "from llama_index.core.query_engine import RetrieverQueryEngine\n",
    "from llama_index.core.postprocessor import SentenceTransformerRerank\n",
    "from llama_index.core.node_parser import SentenceSplitter,SentenceWindowNodeParser\n",
    "from llama_index.core.extractors import (SummaryExtractor,TitleExtractor,KeywordExtractor)\n",
    "from llama_index.core.ingestion import IngestionPipeline\n",
    "from llama_index.readers.azstorage_blob import AzStorageBlobReader\n",
    "from llama_index.core.extractors import BaseExtractor\n",
    "from llama_index.vector_stores.postgres import PGVectorStore\n",
    "from llama_index.core.postprocessor import MetadataReplacementPostProcessor\n",
    "from llama_index.core import Document\n",
    "from llama_index.core.node_parser import (SentenceSplitter,SemanticSplitterNodeParser)"
   ]
  },
  {
   "cell_type": "code",
   "execution_count": 2,
   "metadata": {},
   "outputs": [
    {
     "name": "stderr",
     "output_type": "stream",
     "text": [
      "[nltk_data] Downloading package wordnet to\n",
      "[nltk_data]     C:\\Users\\shree\\AppData\\Roaming\\nltk_data...\n",
      "[nltk_data]   Package wordnet is already up-to-date!\n",
      "[nltk_data] Downloading package stopwords to\n",
      "[nltk_data]     C:\\Users\\shree\\AppData\\Roaming\\nltk_data...\n",
      "[nltk_data]   Package stopwords is already up-to-date!\n"
     ]
    }
   ],
   "source": [
    "import nltk\n",
    "nltk.download('wordnet')\n",
    "nltk.download('stopwords')\n",
    "from gensim.models import LdaModel\n",
    "from gensim.utils import simple_preprocess\n",
    "from nltk.corpus import stopwords\n",
    "from nltk.stem import WordNetLemmatizer\n",
    "from nltk.tokenize import word_tokenize\n",
    "from llama_index.core import PromptTemplate\n",
    "from gensim import corpora\n",
    "from llama_index.core.query_pipeline import QueryPipeline\n",
    "import re\n",
    "import pandas as pd\n",
    "from sklearn.feature_extraction.text import TfidfVectorizer\n",
    "from sklearn.decomposition import LatentDirichletAllocation\n",
    "import numpy as np"
   ]
  },
  {
   "cell_type": "code",
   "execution_count": 3,
   "metadata": {},
   "outputs": [],
   "source": [
    "reader = AzStorageBlobReader(\n",
    "    container_name='docs',\n",
    "    connection_string='DefaultEndpointsProtocol=https;AccountName=shreemirrahrag;AccountKey=UlbcKqbBtcs0J+2esmr8AznpwdV1dF5XI+v13kY07sjJ2U8rHmWbtCUqLjb12lD7Bn9k17mWgqjd+AStB4xXcw==;EndpointSuffix=core.windows.net'\n",
    ")\n",
    "\n",
    "documents = reader.load_data()"
   ]
  },
  {
   "cell_type": "code",
   "execution_count": 4,
   "metadata": {},
   "outputs": [],
   "source": [
    "api_key = \"c09f91126e51468d88f57cb83a63ee36\"\n",
    "azure_endpoint = \"https://chat-gpt-a1.openai.azure.com/\"\n",
    "api_version = \"2023-03-15-preview\""
   ]
  },
  {
   "cell_type": "code",
   "execution_count": 5,
   "metadata": {},
   "outputs": [],
   "source": [
    "llm = AzureOpenAI(\n",
    "    model=\"gpt-35-turbo-16k\",\n",
    "    deployment_name=\"DanielChatGPT16k\",\n",
    "    api_key=api_key,\n",
    "    azure_endpoint=azure_endpoint,\n",
    "    api_version=api_version,\n",
    ")"
   ]
  },
  {
   "cell_type": "code",
   "execution_count": 6,
   "metadata": {},
   "outputs": [],
   "source": [
    "embed_model = AzureOpenAIEmbedding(\n",
    "    model=\"text-embedding-3-small\",\n",
    "    deployment_name=\"text-embedding-3-small\",\n",
    "    api_key=\"c09f91126e51468d88f57cb83a63ee36\",\n",
    "    azure_endpoint=\"https://chat-gpt-a1.openai.azure.com/\",\n",
    "    api_version=\"2023-03-15-preview\",\n",
    ")"
   ]
  },
  {
   "cell_type": "code",
   "execution_count": 7,
   "metadata": {},
   "outputs": [],
   "source": [
    "import nest_asyncio\n",
    "nest_asyncio.apply()"
   ]
  },
  {
   "cell_type": "code",
   "execution_count": 8,
   "metadata": {},
   "outputs": [],
   "source": [
    "Settings.llm = llm\n",
    "Settings.embed_model = embed_model"
   ]
  },
  {
   "cell_type": "code",
   "execution_count": 9,
   "metadata": {},
   "outputs": [],
   "source": [
    "transformations = [TitleExtractor(nodes=5),SummaryExtractor(summaries=[\"prev\", \"self\"])]"
   ]
  },
  {
   "cell_type": "code",
   "execution_count": 10,
   "metadata": {},
   "outputs": [
    {
     "name": "stderr",
     "output_type": "stream",
     "text": [
      "100%|██████████| 5/5 [00:01<00:00,  2.72it/s]\n",
      "100%|██████████| 104/104 [00:33<00:00,  3.15it/s]\n"
     ]
    }
   ],
   "source": [
    "pipeline = IngestionPipeline(transformations=transformations)\n",
    "nodes_parsed = pipeline.run(documents=documents)"
   ]
  },
  {
   "cell_type": "code",
   "execution_count": 11,
   "metadata": {},
   "outputs": [],
   "source": [
    "data = {\n",
    "    \"Agreement\": [\"agreement\", \"license agreement\", \"database access and license agreement\"],\n",
    "    \"Parties\": [\"parties\", \"licensee\", \"licensor\", \"CoreLogic Solutions, LLC\", \"Bright MLS, Inc.\", \"ClearCapital.com, Inc.\"],\n",
    "    \"Effective Date\": [\"effective date\", \"July 2017\", \"August 4, 2021\",\"August 4, 2021,\"],\n",
    "    \"Content\": [\"content\", \"approved content\", \"field list\", \"Bright Content\", \"BRIGHT IP\", \"Bright Service\", \"Bright Database\"],\n",
    "    \"Ownership\": [\"ownership\", \"intellectual property\", \"Bright IP\", \"Licensor's Rights\", \"proprietary rights\", \"copyrights\"],\n",
    "    \"Royalty Fees\": [\"royalty fees\", \"license fees\"],\n",
    "    \"Terms and Conditions\": [\"standard terms and conditions\", \"additional restrictions\", \"limitations\"],\n",
    "    \"Notices\": [\"copyright notice\", \"proprietary rights notices\"],\n",
    "    \"Reports\": [\"property level reports\", \"appraisal review reports\", \"property condition reports\", \"fraud reports\"],\n",
    "    \"Data\": [\"MLS data\", \"public record data\", \"raw data\", \"data services\"],\n",
    "    \"Valuation\": [\"valuation models\", \"automated valuation models (AVMs)\"],\n",
    "    \"Renewal\": [\"term\", \"autorenewal\", \"renewal provisions\"],\n",
    "    \"Termination\": [\"termination provisions\", \"terminate for convenience\"],\n",
    "    \"Notice\": [\"notice\", \"providing notice\", \"requirements for providing notice\"],\n",
    "    \"Address\": [\"address\", \"notice address\", \"address for notice\"],\n",
    "    \"Database Access\": [\"database access\", \"BRIGHT database access\"],\n",
    "    \"Field List\": [\"approved content field list\"],\n",
    "    \"Listing\": [\"listing reports\", \"sample listing reports\"],\n",
    "    \"Intellectual Property\": [\"intellectual property\", \"copyrights\", \"proprietary rights\"],\n",
    "    \"Sublicense Agreements\": [\"sublicense agreements\", \"required terms in sublicense agreements\"],\n",
    "    \"Dates of Singature\": [\"7/19/2017\",\"12/22/17\", \"5/13/2019\",\"8/4/2021\",\"8/5/2021\"]\n",
    "}\n"
   ]
  },
  {
   "cell_type": "code",
   "execution_count": 12,
   "metadata": {},
   "outputs": [],
   "source": [
    "class CustomExtractor(BaseExtractor):\n",
    "    async def aextract(self, nodes):\n",
    "        metadata_list = []\n",
    "        for node in nodes:\n",
    "            metadata = {}\n",
    "            metadata[\"custom\"] = node.metadata[\"document_title\"] + \"\\n\"\n",
    "            metadata[\"keywords\"] = []\n",
    "            for key in data:\n",
    "                for keyword in data[key]:\n",
    "                    if keyword.lower() in node.text.lower():\n",
    "                        metadata[\"keywords\"].append(key+' : '+keyword)\n",
    "            metadata_list.append(metadata)\n",
    "        return metadata_list"
   ]
  },
  {
   "cell_type": "code",
   "execution_count": 13,
   "metadata": {},
   "outputs": [],
   "source": [
    "extractor = CustomExtractor()\n",
    "keyword=extractor.extract(nodes_parsed)"
   ]
  },
  {
   "cell_type": "code",
   "execution_count": 14,
   "metadata": {},
   "outputs": [],
   "source": [
    "for node, keywords in zip(nodes_parsed, keyword):\n",
    "    node.metadata['keywords']= keywords"
   ]
  },
  {
   "cell_type": "code",
   "execution_count": 15,
   "metadata": {},
   "outputs": [
    {
     "data": {
      "text/plain": [
       "{'page_label': '1',\n",
       " 'file_name': 'BPP_Bright final agreement_SPB signature_5.13.19 (15).pdf',\n",
       " 'document_title': 'MLS Agreement Definitions and Terms, MLS License and Data Usage Agreement, MLS License Agreement and Data Access Terms, Agreement Terms for Homesnap Pro Suite, Premium Products, and MLS Fees, Agreement Terms and Termination for NBP and MLS. \\n\\nComprehensive Title: MLS Agreement and License Terms, Data Usage, and Termination',\n",
       " 'section_summary': 'The key topics of the section are the MLS Agreement between the Multiple Listing Service (MLS) and National Broker Portal LLC (NBP), and the definitions of various terms used in the agreement. The entities involved in the agreement are the MLS, NBP, and the Participants (brokers) who provide data to the MLS.',\n",
       " 'keywords': {'custom': 'MLS Agreement Definitions and Terms, MLS License and Data Usage Agreement, MLS License Agreement and Data Access Terms, Agreement Terms for Homesnap Pro Suite, Premium Products, and MLS Fees, Agreement Terms and Termination for NBP and MLS. \\n\\nComprehensive Title: MLS Agreement and License Terms, Data Usage, and Termination\\n',\n",
       "  'keywords': ['Agreement : agreement',\n",
       "   'Parties : parties',\n",
       "   'Data : MLS data',\n",
       "   'Renewal : term',\n",
       "   'Address : address']}}"
      ]
     },
     "execution_count": 15,
     "metadata": {},
     "output_type": "execute_result"
    }
   ],
   "source": [
    "nodes_parsed[0].metadata"
   ]
  },
  {
   "cell_type": "code",
   "execution_count": 16,
   "metadata": {},
   "outputs": [],
   "source": [
    "from typing import List, Optional\n",
    "import itertools\n",
    "import pandas as pd\n",
    "from pydantic import BaseModel, Field, field_validator\n",
    "from kor import extract_from_documents, from_pydantic, create_extraction_chain\n",
    "from langchain_core.documents import Document\n",
    "from langchain_openai import AzureChatOpenAI"
   ]
  },
  {
   "cell_type": "code",
   "execution_count": 17,
   "metadata": {},
   "outputs": [],
   "source": [
    "llm_langchain = AzureChatOpenAI(api_key=\"c09f91126e51468d88f57cb83a63ee36\",api_version=\"2023-03-15-preview\",azure_deployment=\"DanielChatGPT16k\",azure_endpoint=\"https://chat-gpt-a1.openai.azure.com/\",temperature=0,max_tokens=2000, model_kwargs = {'frequency_penalty':0,'presence_penalty':0,'top_p':1.0})\n"
   ]
  },
  {
   "cell_type": "code",
   "execution_count": 18,
   "metadata": {},
   "outputs": [],
   "source": [
    "class EntityExtraction(BaseModel):\n",
    "    documents_name: Optional[str] = Field(description=\"The name of the agreement; title\",)\n",
    "    parties: Optional[str] = Field(description=\"The company names that are involved in the making of the agreement\")    \n",
    "    address: Optional[str] = Field(description=\"The address that corresponds to each party, in the agreement\",)\n",
    "    effective_date: Optional[str] = Field(description=\"The date when the agreement came into effect.\",)\n",
    "    signature_date: Optional[str] = Field(description=\"Date(s) on which the agreement was signed by each party. Such dates are in the format 'MM/DD/YYYY'\",)\n",
    "    term: Optional[str] = Field(description=\"The term is usually mentioned its corresponding section. In-detail duration and other specification of the agreement\")\n"
   ]
  },
  {
   "cell_type": "code",
   "execution_count": 19,
   "metadata": {},
   "outputs": [],
   "source": [
    "schema, extraction_validator = from_pydantic(\n",
    "    EntityExtraction,\n",
    "    description=\"Extract information about the overall agreement based on the text provided.\",\n",
    "    examples=[\n",
    "        (\n",
    "            \"\"\"BRIGHT DATABASE ACCESS AND LICENSE AGREEMENT\n",
    "                ORDER FORM\n",
    "            This BRIGHT Database Access and License Agreement is made as of July 2017, (the “Effective Date™), between BRIGHT MLS, INC., a\n",
    "            Delaware corporation, with offices at 660 American Avenue, King of Prussia, PA, 19406 (\"BRIGHT\" or “Licensor”) and the licensee listed below (“Licensee” or “CoreLogic™).\n",
    "            Licensee: CoreLogic Solutions, LLC Contact:\n",
    "            Address: 40 Pacifica, Suite 900 Phone:\n",
    "            Trvine, CA 92618\n",
    "            Email: \"\"\",\n",
    "            {\"documents_name\": \"BRIGHT DATABASE ACCESS AND LICENSE AGREEMENT\",\n",
    "             \"parties\": [\"BRIGHT MLS, INC. “Licensor”\",\"CoreLogic Solutions, LLC “Licensee”\"],\n",
    "             \"address\":[\"660 American Avenue, King of Prussia, PA, 19406\",\"40 Pacifica, Suite 900 Trvine, CA 92618\"],\n",
    "             \"effective_date\":\"July 2027\",\n",
    "             \"signature_date\":None,\n",
    "             \"term\":None\n",
    "             },\n",
    "        ),\n",
    "        (\n",
    "            \"\"\"CoreLogic Solutions, LLC: BRIGHT MLS, INC. Docusigned by\n",
    "            (. ot By: Brin Dncllr\n",
    "            eneredrManager, Real Estate Solutions Title: COO Title:\n",
    "            Date: 7/19/2017 Date: 7/19/2017 \"\"\",\n",
    "            {\n",
    "            \"documents_name\": None,\n",
    "             \"parties\": \"CoreLogic Solutions, LLC\",\n",
    "             \"address\":None,\n",
    "             \"effective_date\":None,\n",
    "                \"signature_date\":[\"7/19/2017\",\"7/19/2017\"],\n",
    "                \"term\":None\n",
    "             },\n",
    "        ),\n",
    "        (\n",
    "            \"\"\"Term and Termination.\n",
    "51 Term. The initial term of the Agreement shall commence on the Effective Date and shall remain in effect for twenty- four (24) months from the Effective Date (the “Initial Term™), unless terminated carlier as provided in the Agreement. The Agreement shall be automatically renewed after the Initial Term for twelve (12) month terms (each, a “Renewal Term™) thereafter unless either party gives written notice of termination at least sixty (60) days prior to expiration of the Initial Term or the current Renewal Term as provided in the Agreement. (The Initial Term, as extended by the Renewal Terms, collectively constitutes the “Term™.)\n",
    "5.2 Termination for Breach. The Agreement shall terminate, for material breach, if Licensee breaches any provision of the BRIGHT Policies or the scope of the license granted herein and fails to cure the breach within fifteen (15) days of BRIGHT’s written notice of the breach. Additionally, cither party may terminate this Agreement if the other party materially breaches any other provision of this Agreement and fails to cure the breach within thirty (30) days of the non-breaching party's written notice of the breach. \"\"\",\n",
    "            {\n",
    "            \"documents_name\": None,\n",
    "             \"parties\": \"CoreLogic Solutions, LLC\",\n",
    "             \"address\":None,\n",
    "             \"effective_date\":None,\n",
    "                \"signature_date\":[\"7/19/2017\",\"7/19/2017\"],\n",
    "                \"term\":\"The initial term of the Agreement shall commence on the Effective Date and shall remain in effect for twenty- four (24) months from the Effective Date (the “Initial Term™), unless terminated carlier as provided in the Agreement. The Agreement shall be automatically renewed after the Initial Term for twelve (12) month terms (each, a “Renewal Term™) thereafter unless either party gives written notice of termination at least sixty (60) days prior to expiration of the Initial Term or the current Renewal Term as provided in the Agreement. (The Initial Term, as extended by the Renewal Terms, collectively constitutes the “Term™.)\"\n",
    "             },\n",
    "        ),\n",
    "        \n",
    "\n",
    "    ],\n",
    "    many=True,\n",
    ")"
   ]
  },
  {
   "cell_type": "code",
   "execution_count": 20,
   "metadata": {},
   "outputs": [
    {
     "name": "stderr",
     "output_type": "stream",
     "text": [
      "c:\\Users\\shree\\AppData\\Local\\Programs\\Python\\Python311\\Lib\\site-packages\\langchain_core\\_api\\deprecation.py:119: LangChainDeprecationWarning: The class `LLMChain` was deprecated in LangChain 0.1.17 and will be removed in 0.3.0. Use RunnableSequence, e.g., `prompt | llm` instead.\n",
      "  warn_deprecated(\n"
     ]
    }
   ],
   "source": [
    "chain = create_extraction_chain(\n",
    "    llm_langchain,\n",
    "    schema,\n",
    "    encoder_or_encoder_class=\"json\",\n",
    "    validator=extraction_validator,\n",
    "    input_formatter=\"triple_quotes\",\n",
    ")"
   ]
  },
  {
   "cell_type": "code",
   "execution_count": 21,
   "metadata": {},
   "outputs": [],
   "source": [
    "from langchain_community.callbacks import get_openai_callback"
   ]
  },
  {
   "cell_type": "code",
   "execution_count": 22,
   "metadata": {},
   "outputs": [],
   "source": [
    "docs=[]\n",
    "for node in nodes_parsed:\n",
    "    doc=Document(page_content=node.text)\n",
    "    docs.append(doc)"
   ]
  },
  {
   "cell_type": "code",
   "execution_count": 23,
   "metadata": {},
   "outputs": [
    {
     "name": "stderr",
     "output_type": "stream",
     "text": [
      "c:\\Users\\shree\\AppData\\Local\\Programs\\Python\\Python311\\Lib\\site-packages\\langchain_core\\_api\\deprecation.py:119: LangChainDeprecationWarning: The method `Chain.arun` was deprecated in langchain 0.1.0 and will be removed in 0.3.0. Use ainvoke instead.\n",
      "  warn_deprecated(\n"
     ]
    }
   ],
   "source": [
    "with get_openai_callback() as cb:\n",
    "    document_extraction_results = await extract_from_documents(\n",
    "        chain, docs, max_concurrency=5, use_uid=False, return_exceptions=True\n",
    "    )"
   ]
  },
  {
   "cell_type": "code",
   "execution_count": 24,
   "metadata": {},
   "outputs": [
    {
     "data": {
      "text/plain": [
       "104"
      ]
     },
     "execution_count": 24,
     "metadata": {},
     "output_type": "execute_result"
    }
   ],
   "source": [
    "len(nodes_parsed)"
   ]
  },
  {
   "cell_type": "code",
   "execution_count": 53,
   "metadata": {},
   "outputs": [
    {
     "data": {
      "text/plain": [
       "104"
      ]
     },
     "execution_count": 53,
     "metadata": {},
     "output_type": "execute_result"
    }
   ],
   "source": [
    "len(document_extraction_results)"
   ]
  },
  {
   "cell_type": "code",
   "execution_count": 80,
   "metadata": {},
   "outputs": [
    {
     "data": {
      "text/plain": [
       "{'uid': '0',\n",
       " 'source_uid': '0',\n",
       " 'data': {'entityextraction': [{'documents_name': 'Broker Public Portal MLS Agreement',\n",
       "    'parties': ['MLS', 'National Broker Portal LLC'],\n",
       "    'address': None,\n",
       "    'effective_date': None,\n",
       "    'signature_date': None,\n",
       "    'term': None}]},\n",
       " 'raw': '<json>{\"entityextraction\": [{\"documents_name\": \"Broker Public Portal MLS Agreement\", \"parties\": [\"MLS\", \"National Broker Portal LLC\"], \"address\": null, \"effective_date\": null, \"signature_date\": null, \"term\": null}]}</json>',\n",
       " 'validated_data': [],\n",
       " 'errors': [1 validation error for EntityExtraction\n",
       "  parties\n",
       "    Input should be a valid string [type=string_type, input_value=['MLS', 'National Broker Portal LLC'], input_type=list]\n",
       "      For further information visit https://errors.pydantic.dev/2.8/v/string_type]}"
      ]
     },
     "execution_count": 80,
     "metadata": {},
     "output_type": "execute_result"
    }
   ],
   "source": [
    "document_extraction_results[0]"
   ]
  },
  {
   "cell_type": "code",
   "execution_count": 26,
   "metadata": {},
   "outputs": [],
   "source": [
    "for node, entity in zip(nodes_parsed, document_extraction_results):\n",
    "    node.metadata['entity']= entity['data']"
   ]
  },
  {
   "cell_type": "markdown",
   "metadata": {},
   "source": [
    "Sample metadata for reference"
   ]
  },
  {
   "cell_type": "code",
   "execution_count": 81,
   "metadata": {},
   "outputs": [
    {
     "data": {
      "text/plain": [
       "{'page_label': '1',\n",
       " 'file_name': 'BPP_Bright final agreement_SPB signature_5.13.19 (15).pdf',\n",
       " 'document_title': 'MLS Agreement Definitions and Terms, MLS License and Data Usage Agreement, MLS License Agreement and Data Access Terms, Agreement Terms for Homesnap Pro Suite, Premium Products, and MLS Fees, Agreement Terms and Termination for NBP and MLS. \\n\\nComprehensive Title: MLS Agreement and License Terms, Data Usage, and Termination',\n",
       " 'section_summary': 'The key topics of the section are the MLS Agreement between the Multiple Listing Service (MLS) and National Broker Portal LLC (NBP), and the definitions of various terms used in the agreement. The entities involved in the agreement are the MLS, NBP, and the Participants (brokers) who provide data to the MLS.',\n",
       " 'keywords': {'custom': 'MLS Agreement Definitions and Terms, MLS License and Data Usage Agreement, MLS License Agreement and Data Access Terms, Agreement Terms for Homesnap Pro Suite, Premium Products, and MLS Fees, Agreement Terms and Termination for NBP and MLS. \\n\\nComprehensive Title: MLS Agreement and License Terms, Data Usage, and Termination\\n',\n",
       "  'keywords': ['Agreement : agreement',\n",
       "   'Parties : parties',\n",
       "   'Data : MLS data',\n",
       "   'Renewal : term',\n",
       "   'Address : address']},\n",
       " 'entity': {'entityextraction': [{'documents_name': 'Broker Public Portal MLS Agreement',\n",
       "    'parties': ['MLS', 'National Broker Portal LLC'],\n",
       "    'address': None,\n",
       "    'effective_date': None,\n",
       "    'signature_date': None,\n",
       "    'term': None}]},\n",
       " 'lda_topcis': {'TF_IDF': 'assistant: Topic: Suite of products developed by a third party for professional use, including Homesnap.\\n\\nTopic: Media data and MLS listings provided by a licensed publisher, with basic information included.\\n\\nTopic: Categories of information applicable to third party licensed fields and basic app functionality.\\n\\nTopic: Active listings and designated properties owned by participants, following the terms of an agreement.\\n\\nTopic: MLS data and opt-in participants in the NBP, with fields and following included.'}}"
      ]
     },
     "execution_count": 81,
     "metadata": {},
     "output_type": "execute_result"
    }
   ],
   "source": [
    "nodes_parsed[0].metadata"
   ]
  },
  {
   "cell_type": "code",
   "execution_count": 27,
   "metadata": {},
   "outputs": [],
   "source": [
    "def topic_tf_idf(text):\n",
    "    sentences = [sentence.strip() for sentence in text.split(\".\")]\n",
    "    df = pd.DataFrame(sentences, columns=[\"text\"])\n",
    "    vectorizer = TfidfVectorizer(max_df=0.95, min_df=2, stop_words=\"english\")\n",
    "    tfidf = vectorizer.fit_transform(df[\"text\"])\n",
    "    lda = LatentDirichletAllocation(n_components=5, max_iter=5, learning_method='online', learning_offset=50.,random_state=0).fit(tfidf)\n",
    "    topic_words = []\n",
    "    for topic in lda.components_:\n",
    "        topic_words.append([vectorizer.get_feature_names_out()[i] for i in topic.argsort()[:-10 - 1:-1]])\n",
    "    topic_list=[topic for topic in topic_words]\n",
    "    return topic_list\n",
    "\n",
    "def retreive(template_str,string_lda,num_topics=2):\n",
    "    num_topics=str(num_topics)\n",
    "    prompt_tmpl = PromptTemplate(template_str)\n",
    "    p = QueryPipeline(chain=[prompt_tmpl, llm], verbose=True)\n",
    "    output = p.run(string_lda=string_lda,num_topics=num_topics)\n",
    "    return str(output)\n",
    "\n",
    "def topics_from_text(llm, text):\n",
    "    list_of_topicwords = topic_tf_idf(text)\n",
    "    string_lda = \"\"\n",
    "    for list in list_of_topicwords:\n",
    "        string_lda += str(list) + \"\\n\"\n",
    "    template_string = \"\"\"Describe the topic of each of the {num_topics} \n",
    "        double-quote delimited lists in a simple sentence. The lists are the result of an \n",
    "        algorithm for topic discovery.\n",
    "        Do not provide an introduction or a conclusion, only describe the \n",
    "        topics. Do not mention the word \"topic\" when describing the topics.\n",
    "        Use the following template for the response.\n",
    "        \n",
    "        Topic: <<<(sentence describing the topic)>>>\n",
    "\n",
    "        Topic: <<<(sentence describing the topic)>>>\n",
    "        ...\n",
    "\n",
    "        n: <<<(sentence describing the topic)>>>\n",
    "\n",
    "\n",
    "\n",
    "        Lists: {string_lda} \"\"\"\n",
    "\n",
    "    # LLM call\n",
    "    #num_topics=str(num_topics)\n",
    "    response=retreive(template_string, string_lda)\n",
    "    return response"
   ]
  },
  {
   "cell_type": "code",
   "execution_count": 28,
   "metadata": {},
   "outputs": [],
   "source": [
    "class CustomExtractor(BaseExtractor):\n",
    "    async def aextract(self, nodes):\n",
    "        metadata_list = []\n",
    "        for node in nodes:\n",
    "            metadata = {}\n",
    "            try:\n",
    "                metadata[\"TF_IDF\"] = topics_from_text(llm,node.text)\n",
    "            except ValueError:\n",
    "                continue\n",
    "            metadata_list.append(metadata)\n",
    "        return metadata_list"
   ]
  },
  {
   "cell_type": "code",
   "execution_count": 29,
   "metadata": {},
   "outputs": [
    {
     "name": "stdout",
     "output_type": "stream",
     "text": [
      "\u001b[1;3;38;2;155;135;227m> Running module 62748b34-e260-45ab-a043-e60b6354e608 with input: \n",
      "string_lda: ['suite', 'homesnap', 'include', 'products', 'developed', 'party', 'pro', 'disclosure', 'confidential', 'does']\n",
      "['media', 'data', 'mls', 'basic', 'licensed', 'choose', 'publisher', 'listings', 'includ...\n",
      "num_topics: 2\n",
      "\n",
      "\u001b[0m\u001b[1;3;38;2;155;135;227m> Running module c0bf3c1b-d36d-478a-8927-69f53afa2c8d with input: \n",
      "messages: Describe the topic of each of the 2 \n",
      "        double-quote delimited lists in a simple sentence. The lists are the result of an \n",
      "        algorithm for topic discovery.\n",
      "        Do not provide an introdu...\n",
      "\n",
      "\u001b[0m\u001b[1;3;38;2;155;135;227m> Running module e9f41aa6-58d2-4cfd-8791-06aff5ac1f51 with input: \n",
      "string_lda: ['information', 'roster', 'agreement', 'nbp', 'basic', 'display', 'hs', 'shall', 'fields', 'subscriber']\n",
      "['listings', 'license', 'basic', 'email', 'property', 'participant', 'subscribers', 'sold', 'co...\n",
      "num_topics: 2\n",
      "\n",
      "\u001b[0m\u001b[1;3;38;2;155;135;227m> Running module a822752d-24d9-426f-85e1-d050ae5bbd17 with input: \n",
      "messages: Describe the topic of each of the 2 \n",
      "        double-quote delimited lists in a simple sentence. The lists are the result of an \n",
      "        algorithm for topic discovery.\n",
      "        Do not provide an introdu...\n",
      "\n",
      "\u001b[0m\u001b[1;3;38;2;155;135;227m> Running module 781c59fc-9fc9-4927-9c1d-6f2ce1e06b8e with input: \n",
      "string_lda: ['nbp', 'data', 'licensed', 'mls', 'acknowledges', 'available', 'shall', 'access', 'basic', 'extent']\n",
      "['data', 'mls', 'interface', 'agreement', 'provide', 'access', 'sole', 'parties', 'technical', 'in...\n",
      "num_topics: 2\n",
      "\n",
      "\u001b[0m\u001b[1;3;38;2;155;135;227m> Running module 2ca1b489-8229-48ce-8ba9-682e1372f963 with input: \n",
      "messages: Describe the topic of each of the 2 \n",
      "        double-quote delimited lists in a simple sentence. The lists are the result of an \n",
      "        algorithm for topic discovery.\n",
      "        Do not provide an introdu...\n",
      "\n",
      "\u001b[0m\u001b[1;3;38;2;155;135;227m> Running module 229f0555-df85-4e24-b9d0-c2de3141a1e1 with input: \n",
      "string_lda: ['month', 'fees', '2020', 'nbp', 'agreement', 'user', 'hs', 'pay', 'licensed', 'comply']\n",
      "['mls', 'pro', 'support', 'homesnap', 'data', 'suite', 'fees', 'hs', 'provide', 'written']\n",
      "['products', 'pro', ...\n",
      "num_topics: 2\n",
      "\n",
      "\u001b[0m\u001b[1;3;38;2;155;135;227m> Running module 2f47a557-9e59-4de3-88ea-90e1fd694d54 with input: \n",
      "messages: Describe the topic of each of the 2 \n",
      "        double-quote delimited lists in a simple sentence. The lists are the result of an \n",
      "        algorithm for topic discovery.\n",
      "        Do not provide an introdu...\n",
      "\n",
      "\u001b[0m\u001b[1;3;38;2;155;135;227m> Running module 8f0d54da-2819-4541-8775-9c0ae31d1e30 with input: \n",
      "string_lda: ['20', 'transfer', 'data', 'section', 'assign', 'end', 'nbp', 'written', 'exits', 'extent']\n",
      "['nbp', 'information', 'party', 'confidential', 'shall', 'agreement', 'event', 'llc', 'audit', 'notice']\n",
      "['d...\n",
      "num_topics: 2\n",
      "\n",
      "\u001b[0m\u001b[1;3;38;2;155;135;227m> Running module 87ce5e86-95d8-4327-8bad-c05b5313f73d with input: \n",
      "messages: Describe the topic of each of the 2 \n",
      "        double-quote delimited lists in a simple sentence. The lists are the result of an \n",
      "        algorithm for topic discovery.\n",
      "        Do not provide an introdu...\n",
      "\n",
      "\u001b[0m\u001b[1;3;38;2;155;135;227m> Running module 7bc5a760-a560-4099-88d0-6afa9127ad9d with input: \n",
      "string_lda: ['nbp', 'mls', 'suspension', 'data', '23', 'licensed', 'agreement', 'days', 'breaches', 'shall']\n",
      "['30', 'indemnification', 'state', 'place', 'agreement', 'principal', 'sections', '18', 'exit', 'busine...\n",
      "num_topics: 2\n",
      "\n",
      "\u001b[0m\u001b[1;3;38;2;155;135;227m> Running module 6617ba03-f0c5-4070-958e-62075baba01a with input: \n",
      "messages: Describe the topic of each of the 2 \n",
      "        double-quote delimited lists in a simple sentence. The lists are the result of an \n",
      "        algorithm for topic discovery.\n",
      "        Do not provide an introdu...\n",
      "\n",
      "\u001b[0m\u001b[1;3;38;2;155;135;227m> Running module b0102f5b-c363-4703-bca5-25135fced5c9 with input: \n",
      "string_lda: ['agreement', 'provisions', 'representations', 'rights', 'signed', 'amendment', 'forth', 'parties', 'claim', 'mls']\n",
      "['waiver', 'writing', 'party', 'shall', 'solely', 'valid', 'agreement', 'set', 'part...\n",
      "num_topics: 2\n",
      "\n",
      "\u001b[0m\u001b[1;3;38;2;155;135;227m> Running module 4bf34c63-9cd2-4e67-87a2-bfbcd0006f3e with input: \n",
      "messages: Describe the topic of each of the 2 \n",
      "        double-quote delimited lists in a simple sentence. The lists are the result of an \n",
      "        algorithm for topic discovery.\n",
      "        Do not provide an introdu...\n",
      "\n",
      "\u001b[0m\u001b[1;3;38;2;155;135;227m> Running module d51e4b6d-98eb-49a1-b8ed-f42981ca4658 with input: \n",
      "string_lda: ['strauch', 'notices', 'operations', 'md', 'email', 'matters', '7200', '200', 'date', 'suite']\n",
      "['suite', 'md', 'matters', 'notices', 'contact', 'bethesda', 'technical', 'signature', 'mls', 'agreement'...\n",
      "num_topics: 2\n",
      "\n",
      "\u001b[0m\u001b[1;3;38;2;155;135;227m> Running module 82f03fe0-a34d-496b-a3af-4002dcead79e with input: \n",
      "messages: Describe the topic of each of the 2 \n",
      "        double-quote delimited lists in a simple sentence. The lists are the result of an \n",
      "        algorithm for topic discovery.\n",
      "        Do not provide an introdu...\n",
      "\n",
      "\u001b[0m\u001b[1;3;38;2;155;135;227m> Running module 26abcd58-e534-45df-8e55-a4ac82b4fa58 with input: \n",
      "string_lda: ['20xx', 'shall', 'displays', 'advertisements', 'copyright', 'fee', 'data', 'fields', 'mls', 'include']\n",
      "['data', 'licensed', 'nbp', 'participants', 'including', 'homesnap', 'allow', 'mls', 'properties...\n",
      "num_topics: 2\n",
      "\n",
      "\u001b[0m\u001b[1;3;38;2;155;135;227m> Running module d4f8a616-2682-4b5d-b267-b1c8af03695f with input: \n",
      "messages: Describe the topic of each of the 2 \n",
      "        double-quote delimited lists in a simple sentence. The lists are the result of an \n",
      "        algorithm for topic discovery.\n",
      "        Do not provide an introdu...\n",
      "\n",
      "\u001b[0m\u001b[1;3;38;2;155;135;227m> Running module 95faa38d-5054-41b1-a3d9-99300f6bda84 with input: \n",
      "string_lda: ['nbp', 'listing', '10', 'mls', 'properties', 'fsbos', 'display', 'subscribers', 'listings', 'information']\n",
      "['nbp', 'display', 'shall', 'licensed', 'data', 'listing', 'restricted', 'mls', 'provide', '...\n",
      "num_topics: 2\n",
      "\n",
      "\u001b[0m\u001b[1;3;38;2;155;135;227m> Running module 4999d2df-8fe4-41c0-b088-340ade70ddb8 with input: \n",
      "messages: Describe the topic of each of the 2 \n",
      "        double-quote delimited lists in a simple sentence. The lists are the result of an \n",
      "        algorithm for topic discovery.\n",
      "        Do not provide an introdu...\n",
      "\n",
      "\u001b[0m\u001b[1;3;38;2;155;135;227m> Running module 54f97da0-fc2d-44be-b72e-13c8eae5e6d4 with input: \n",
      "string_lda: ['pro', 'homesnap', 'nbp', 'participants', 'use', 'subscribers', '31', 'current', 'provide', 'mls']\n",
      "['non', 'mls', 'number', 'license', 'subscribers', 'separate', 'agreements', 'include', 'device', 'a...\n",
      "num_topics: 2\n",
      "\n",
      "\u001b[0m\u001b[1;3;38;2;155;135;227m> Running module c6c8716d-2998-4c56-ba31-aa7d3d444002 with input: \n",
      "messages: Describe the topic of each of the 2 \n",
      "        double-quote delimited lists in a simple sentence. The lists are the result of an \n",
      "        algorithm for topic discovery.\n",
      "        Do not provide an introdu...\n",
      "\n",
      "\u001b[0m\u001b[1;3;38;2;155;135;227m> Running module 38e51d3e-f5ab-42f8-a675-19b510473a60 with input: \n",
      "string_lda: ['branding', 'hs', 'subscriber', 'agent', 'access', 'participant', 'homesnap', 'credentials', 'broker', 'logos']\n",
      "['homesnap', 'branding', 'pro', 'addition', 'suspend', 'mls', 'suite', 'provided', 'mat...\n",
      "num_topics: 2\n",
      "\n",
      "\u001b[0m\u001b[1;3;38;2;155;135;227m> Running module 5acbe764-df35-4731-a697-df5e2416fe9c with input: \n",
      "messages: Describe the topic of each of the 2 \n",
      "        double-quote delimited lists in a simple sentence. The lists are the result of an \n",
      "        algorithm for topic discovery.\n",
      "        Do not provide an introdu...\n",
      "\n",
      "\u001b[0m\u001b[1;3;38;2;155;135;227m> Running module 3b7bf54a-ea62-46ab-a620-962f679ca36e with input: \n",
      "string_lda: ['web', 'domain', 'site', 'link', 'source', 'mls', 'provided', 'alter', 'marks', 'licensed']\n",
      "['licensed', 'marks', 'alter', 'license', 'shall', 'source', 'site', 'provided', 'web', 'mls']\n",
      "['source', '...\n",
      "num_topics: 2\n",
      "\n",
      "\u001b[0m\u001b[1;3;38;2;155;135;227m> Running module 2e2f5aed-7448-43c2-8d46-a305d153b887 with input: \n",
      "messages: Describe the topic of each of the 2 \n",
      "        double-quote delimited lists in a simple sentence. The lists are the result of an \n",
      "        algorithm for topic discovery.\n",
      "        Do not provide an introdu...\n",
      "\n",
      "\u001b[0m\u001b[1;3;38;2;155;135;227m> Running module 899a03c0-3b4a-452f-88de-15c70d5dd70e with input: \n",
      "string_lda: ['mls', 'identity', 'agent', 'account', '24', 'agents', 'does', 'connected', 'data', 'automatically']\n",
      "['contact', 'past', 'information', 'tap', 'real', 'office', 'listings', 'agent', 'average', 'profi...\n",
      "num_topics: 2\n",
      "\n",
      "\u001b[0m\u001b[1;3;38;2;155;135;227m> Running module dc50b1b5-5a38-46cc-b1b1-6d8b4a5d1546 with input: \n",
      "messages: Describe the topic of each of the 2 \n",
      "        double-quote delimited lists in a simple sentence. The lists are the result of an \n",
      "        algorithm for topic discovery.\n",
      "        Do not provide an introdu...\n",
      "\n",
      "\u001b[0m\u001b[1;3;38;2;155;135;227m> Running module b43e4d9b-ce15-49d6-aa46-142a9f473110 with input: \n",
      "string_lda: ['access', 'contacts', 'agent', 'favorite', 'directory', 'chronological', 'county', 'pro', 'date', 'recently']\n",
      "['details', 'pro', 'building', 'tap', 'listing', 'changes', 'units', 'listings', 'agents'...\n",
      "num_topics: 2\n",
      "\n",
      "\u001b[0m\u001b[1;3;38;2;155;135;227m> Running module 697f209e-c66c-4255-b975-fb7e7726923b with input: \n",
      "messages: Describe the topic of each of the 2 \n",
      "        double-quote delimited lists in a simple sentence. The lists are the result of an \n",
      "        algorithm for topic discovery.\n",
      "        Do not provide an introdu...\n",
      "\n",
      "\u001b[0m\u001b[1;3;38;2;155;135;227m> Running module 8328751c-6880-4306-bf7e-e1f05884ed03 with input: \n",
      "string_lda: ['email', 'agent', 'picture', 'drip', 'clients', 'homesnap', 'active', 'status', 'influence', 'sphere']\n",
      "['message', 'homesnap', 'agent', 'come', 'pro', 'clients', 'follow', 'right', 'use', 'home']\n",
      "['s...\n",
      "num_topics: 2\n",
      "\n",
      "\u001b[0m\u001b[1;3;38;2;155;135;227m> Running module 6297e9cd-adc1-4086-b64b-8e8573ebeb15 with input: \n",
      "messages: Describe the topic of each of the 2 \n",
      "        double-quote delimited lists in a simple sentence. The lists are the result of an \n",
      "        algorithm for topic discovery.\n",
      "        Do not provide an introdu...\n",
      "\n",
      "\u001b[0m\u001b[1;3;38;2;155;135;227m> Running module 02987403-383e-4db2-aaed-b40de4e0c4d7 with input: \n",
      "string_lda: ['broker', 'brand', 'fee', 'agents', 'setup', 'emails', 'affiliated', 'clients', 'client', 'branding']\n",
      "['md', 'market', 'business', 'branded', 'details', 'launch', 'agent', 'consumers', 'initially', '...\n",
      "num_topics: 2\n",
      "\n",
      "\u001b[0m\u001b[1;3;38;2;155;135;227m> Running module 7aa1beff-453f-441a-9385-6db47a80ef42 with input: \n",
      "messages: Describe the topic of each of the 2 \n",
      "        double-quote delimited lists in a simple sentence. The lists are the result of an \n",
      "        algorithm for topic discovery.\n",
      "        Do not provide an introdu...\n",
      "\n",
      "\u001b[0m\u001b[1;3;38;2;155;135;227m> Running module b7e9d2aa-8f59-4cac-8ddc-f7fa1b060192 with input: \n",
      "string_lda: ['homesnap', 'able', 'affiliated', 'listing', 'broker', 'clients', 'leads', 'dashboard', 'offices', 'platform']\n",
      "['provide', 'brokers', 'shall', 'homesnap', 'dashboard', 'office', 'use', 'leads', 'brok...\n",
      "num_topics: 2\n",
      "\n",
      "\u001b[0m\u001b[1;3;38;2;155;135;227m> Running module a740c7b0-9785-43cd-928e-1f5251ab8df3 with input: \n",
      "messages: Describe the topic of each of the 2 \n",
      "        double-quote delimited lists in a simple sentence. The lists are the result of an \n",
      "        algorithm for topic discovery.\n",
      "        Do not provide an introdu...\n",
      "\n",
      "\u001b[0m\u001b[1;3;38;2;155;135;227m> Running module 5720366c-48e2-4ff8-bff9-89cafa0a43e0 with input: \n",
      "string_lda: ['broker', 'updated', 'able', 'ranking', 'view', 'permitted', 'homesnap', 'including', 'agent', 'participants']\n",
      "['able', 'certain', 'dashboard', 'productivity', 'updated', 'metrics', 'ranking', 'permi...\n",
      "num_topics: 2\n",
      "\n",
      "\u001b[0m\u001b[1;3;38;2;155;135;227m> Running module 72c94ca8-b0c9-441a-85a5-b26e4b0dbf7c with input: \n",
      "messages: Describe the topic of each of the 2 \n",
      "        double-quote delimited lists in a simple sentence. The lists are the result of an \n",
      "        algorithm for topic discovery.\n",
      "        Do not provide an introdu...\n",
      "\n",
      "\u001b[0m\u001b[1;3;38;2;155;135;227m> Running module 8b229181-39fe-49ef-9853-bb1237f10438 with input: \n",
      "string_lda: ['00am', 'eastern', '20', '100', 'directly', 'definitions', 'consumer', 'email', 'uptime', 'support']\n",
      "['percentage', 'month', 'calendar', 'downtime', 'monthly', 'following', '99', 'minutes', '100', 'c...\n",
      "num_topics: 2\n",
      "\n",
      "\u001b[0m\u001b[1;3;38;2;155;135;227m> Running module 96748e35-3de5-42fe-b7fa-07aa40d7562d with input: \n",
      "messages: Describe the topic of each of the 2 \n",
      "        double-quote delimited lists in a simple sentence. The lists are the result of an \n",
      "        algorithm for topic discovery.\n",
      "        Do not provide an introdu...\n",
      "\n",
      "\u001b[0m\u001b[1;3;38;2;155;135;227m> Running module 39b1d88b-1507-4364-a064-e5b936aa91ed with input: \n",
      "string_lda: ['suite', 'com', 'business', 'times', 'regular', 'level', 'subscribers', 'participants', 'hours', 'case']\n",
      "['homesnap', 'shall', 'mls', 'email', 'business', 'suite', 'subscribers', 'participants', 'reg...\n",
      "num_topics: 2\n",
      "\n",
      "\u001b[0m\u001b[1;3;38;2;155;135;227m> Running module 213761d3-df3c-4482-8c35-af205d488368 with input: \n",
      "messages: Describe the topic of each of the 2 \n",
      "        double-quote delimited lists in a simple sentence. The lists are the result of an \n",
      "        algorithm for topic discovery.\n",
      "        Do not provide an introdu...\n",
      "\n",
      "\u001b[0m\u001b[1;3;38;2;155;135;227m> Running module 7cb20486-1b0e-4bcd-beb1-47e5fe954689 with input: \n",
      "string_lda: ['2017', 'agreement', 'license', 'form', 'date', 'database', 'access', 'bright', 'mls', 'order']\n",
      "['provisions', 'mls', 'license', 'different', 'solutions', 'licensee', 'date', 'applicable', 'terms', '...\n",
      "num_topics: 2\n",
      "\n",
      "\u001b[0m\u001b[1;3;38;2;155;135;227m> Running module bb715a37-2f46-4f72-8315-d70db3187cbe with input: \n",
      "messages: Describe the topic of each of the 2 \n",
      "        double-quote delimited lists in a simple sentence. The lists are the result of an \n",
      "        algorithm for topic discovery.\n",
      "        Do not provide an introdu...\n",
      "\n",
      "\u001b[0m\u001b[1;3;38;2;155;135;227m> Running module d514482e-88c4-4a4e-b4da-fdc403d5082c with input: \n",
      "string_lda: ['database', 'access', 'conditions', 'license', 'bright', 'exclusive', 'additional', 'sole', 'agreement', 'restrictions']\n",
      "['additional', 'use', 'granted', 'rights', 'restrictions', 'notices', 'ip', 's...\n",
      "num_topics: 2\n",
      "\n",
      "\u001b[0m\u001b[1;3;38;2;155;135;227m> Running module f3b058c1-5dd2-44a3-925b-17f62e3765cb with input: \n",
      "messages: Describe the topic of each of the 2 \n",
      "        double-quote delimited lists in a simple sentence. The lists are the result of an \n",
      "        algorithm for topic discovery.\n",
      "        Do not provide an introdu...\n",
      "\n",
      "\u001b[0m\u001b[1;3;38;2;155;135;227m> Running module a349f7d0-91a3-483f-8564-c44988a73a38 with input: \n",
      "string_lda: ['bright', 'shall', 'licensee', 'available', 'agreement', 'database', 'access', 'law', 'rate', 'service']\n",
      "['fees', 'rights', 'audit', 'amounts', 'agrees', 'party', 'event', 'breaching', 'certification...\n",
      "num_topics: 2\n",
      "\n",
      "\u001b[0m\u001b[1;3;38;2;155;135;227m> Running module 00a30dd6-576a-4378-9695-b061e3694b11 with input: \n",
      "messages: Describe the topic of each of the 2 \n",
      "        double-quote delimited lists in a simple sentence. The lists are the result of an \n",
      "        algorithm for topic discovery.\n",
      "        Do not provide an introdu...\n",
      "\n",
      "\u001b[0m\u001b[1;3;38;2;155;135;227m> Running module 28ce6c15-3b4f-4c14-97ff-556bdd5549eb with input: \n",
      "string_lda: ['term', 'warranties', 'agreement', '10', 'licensee', 'initial', 'termination', 'renewal', 'applicable', 'content']\n",
      "['termination', 'breach', 'liability', 'fails', 'written', 'provision', 'limitation'...\n",
      "num_topics: 2\n",
      "\n",
      "\u001b[0m\u001b[1;3;38;2;155;135;227m> Running module d10a6db2-ea68-49a0-84ea-7dce8c26c9f7 with input: \n",
      "messages: Describe the topic of each of the 2 \n",
      "        double-quote delimited lists in a simple sentence. The lists are the result of an \n",
      "        algorithm for topic discovery.\n",
      "        Do not provide an introdu...\n",
      "\n",
      "\u001b[0m\u001b[1;3;38;2;155;135;227m> Running module 9338e40b-938e-441c-94ea-4264ea9d1001 with input: \n",
      "string_lda: ['12', '10', 'contractor', '11', 'binding', 'change', 'applicable', 'changed', 'party', 'consent']\n",
      "['bright', 'dispute', 'agreement', 'ip', '12', 'arbitration', 'database', 'right', 'arising', 'agrees...\n",
      "num_topics: 2\n",
      "\n",
      "\u001b[0m\u001b[1;3;38;2;155;135;227m> Running module ff064a1d-08a6-4cb1-ad21-c6a0a7f57898 with input: \n",
      "messages: Describe the topic of each of the 2 \n",
      "        double-quote delimited lists in a simple sentence. The lists are the result of an \n",
      "        algorithm for topic discovery.\n",
      "        Do not provide an introdu...\n",
      "\n",
      "\u001b[0m\u001b[1;3;38;2;155;135;227m> Running module bbd9ecbb-cb2c-41ce-b955-188d4e218275 with input: \n",
      "string_lda: ['content', 'estate', 'applicable', 'including', 'access', 'limitation', 'idx', 'brokers', 'licensee', 'collectively']\n",
      "['use', 'rules', 'authorized', 'means', 'form', 'database', 'respect', 'bright', ...\n",
      "num_topics: 2\n",
      "\n",
      "\u001b[0m\u001b[1;3;38;2;155;135;227m> Running module 72facdb5-6efb-48a4-ba8a-ce9a2cf4f855 with input: \n",
      "messages: Describe the topic of each of the 2 \n",
      "        double-quote delimited lists in a simple sentence. The lists are the result of an \n",
      "        algorithm for topic discovery.\n",
      "        Do not provide an introdu...\n",
      "\n",
      "\u001b[0m\u001b[1;3;38;2;155;135;227m> Running module 5538ff8f-c4a3-471a-9245-1d3eba9264e4 with input: \n",
      "string_lda: ['database', 'bright', 'content', 'using', 'provided', 'access', 'license', 'description', 'analysis', 'products']\n",
      "['ot', 'reports', 'license', 'oo', 'property', 'agreement', 'licensee', 'used', 'brig...\n",
      "num_topics: 2\n",
      "\n",
      "\u001b[0m\u001b[1;3;38;2;155;135;227m> Running module 85513888-7294-49e1-ac89-cc543184259f with input: \n",
      "messages: Describe the topic of each of the 2 \n",
      "        double-quote delimited lists in a simple sentence. The lists are the result of an \n",
      "        algorithm for topic discovery.\n",
      "        Do not provide an introdu...\n",
      "\n",
      "\u001b[0m\u001b[1;3;38;2;155;135;227m> Running module 212bb4fc-af67-443d-bdd5-e3db5b58947e with input: \n",
      "string_lda: ['access', 'listings', 'content', 'corelogic', 'bright', 'approved', 'agreement', 'property', 'listing', 'mls']\n",
      "['risk', 'management', 'purposes', 'current', 'pdf', 'contract', 'property', 'reports', ...\n",
      "num_topics: 2\n",
      "\n",
      "\u001b[0m\u001b[1;3;38;2;155;135;227m> Running module 0de5c4b0-8a0d-4f3a-8731-0625a75ecdcc with input: \n",
      "messages: Describe the topic of each of the 2 \n",
      "        double-quote delimited lists in a simple sentence. The lists are the result of an \n",
      "        algorithm for topic discovery.\n",
      "        Do not provide an introdu...\n",
      "\n",
      "\u001b[0m\u001b[1;3;38;2;155;135;227m> Running module 210ac4a4-9b10-4ae6-a7fd-0560ab798d63 with input: \n",
      "string_lda: ['corelogic', 'content', 'trend', 'provide', 'data', 'added', 'agreement', 'rights', '15', 'feed']\n",
      "['use', 'database', 'prohibited', 'license', 'bright', 'purpose', 'authority', 'manner', 'additional'...\n",
      "num_topics: 2\n",
      "\n",
      "\u001b[0m\u001b[1;3;38;2;155;135;227m> Running module 6adfdbef-f11d-40db-b70a-1e4ebb9647d3 with input: \n",
      "messages: Describe the topic of each of the 2 \n",
      "        double-quote delimited lists in a simple sentence. The lists are the result of an \n",
      "        algorithm for topic discovery.\n",
      "        Do not provide an introdu...\n",
      "\n",
      "\u001b[0m\u001b[1;3;38;2;155;135;227m> Running module a0813df1-93a3-4ca1-8a9c-74a55021ce55 with input: \n",
      "string_lda: ['base', 'exclusive', 'royalty', 'corelogic', 'license', '000', 'active', 'non', 'set', 'pool']\n",
      "['fee', 'royalty', 'shall', 'finance', 'inthe', 'charge', 'agreement', 'mls', 'corelogic', 'commencing']...\n",
      "num_topics: 2\n",
      "\n",
      "\u001b[0m\u001b[1;3;38;2;155;135;227m> Running module 87038b27-788f-4175-9719-104e6622cc04 with input: \n",
      "messages: Describe the topic of each of the 2 \n",
      "        double-quote delimited lists in a simple sentence. The lists are the result of an \n",
      "        algorithm for topic discovery.\n",
      "        Do not provide an introdu...\n",
      "\n",
      "\u001b[0m\u001b[1;3;38;2;155;135;227m> Running module 15637c9c-f855-49a4-bc93-07906b69b6e9 with input: \n",
      "string_lda: ['000', '200', 'licensor', 'listings', 'active', '20', 'client', 'example', 'count', 'exclusive']\n",
      "['royalty', 'override', 'fee', 'base', 'example', 'shall', 'licensor', 'pool', 'total', 'mls']\n",
      "['membe...\n",
      "num_topics: 2\n",
      "\n",
      "\u001b[0m\u001b[1;3;38;2;155;135;227m> Running module 195693d6-3024-4c84-9a9e-d4638ec41e0a with input: \n",
      "messages: Describe the topic of each of the 2 \n",
      "        double-quote delimited lists in a simple sentence. The lists are the result of an \n",
      "        algorithm for topic discovery.\n",
      "        Do not provide an introdu...\n",
      "\n",
      "\u001b[0m\u001b[1;3;38;2;155;135;227m> Running module a9ca0cb7-458e-4edf-b6d8-35c714f741de with input: \n",
      "string_lda: ['developer', 'exhibit', 'application', 'licensee', 'bright', '12', 'authorized', 'displays', 'copyrights', 'terms']\n",
      "['notice', 'attachment', 'copyright', 'displays', 'shall', 'parties', 'exhibit', 't...\n",
      "num_topics: 2\n",
      "\n",
      "\u001b[0m\u001b[1;3;38;2;155;135;227m> Running module 5909fc78-9dea-4878-9b2b-03cf61f0226a with input: \n",
      "messages: Describe the topic of each of the 2 \n",
      "        double-quote delimited lists in a simple sentence. The lists are the result of an \n",
      "        algorithm for topic discovery.\n",
      "        Do not provide an introdu...\n",
      "\n",
      "\u001b[0m\u001b[1;3;38;2;155;135;227m> Running module 3da81ed9-e537-4e8b-85bc-ad6e0a78ee45 with input: \n",
      "string_lda: ['types', 'property', 'bright', 'agreement', 'approved', 'residential', 'finalized', 'content', 'fields']\n",
      "['finalized', 'residential', 'fields', 'approved', 'types', 'agreement', 'property', 'bright',...\n",
      "num_topics: 2\n",
      "\n",
      "\u001b[0m\u001b[1;3;38;2;155;135;227m> Running module a9ac3450-8bb5-4bee-aa97-7987bc350946 with input: \n",
      "messages: Describe the topic of each of the 2 \n",
      "        double-quote delimited lists in a simple sentence. The lists are the result of an \n",
      "        algorithm for topic discovery.\n",
      "        Do not provide an introdu...\n",
      "\n",
      "\u001b[0m\u001b[1;3;38;2;155;135;227m> Running module 3aa2606c-afb0-417f-af52-7754f4ca8928 with input: \n",
      "string_lda: ['alerts', 'risk', 'high', 'low', '10', 'report', 'medium', 'market', 'selection', 'alert']\n",
      "['bpo', 'report', 'alerts', 'property', 'medium', 'misrepresentation', 'low', 'review', 'effective', 'date']...\n",
      "num_topics: 2\n",
      "\n",
      "\u001b[0m\u001b[1;3;38;2;155;135;227m> Running module da36a35c-06d2-4287-baab-9f9cd3508906 with input: \n",
      "messages: Describe the topic of each of the 2 \n",
      "        double-quote delimited lists in a simple sentence. The lists are the result of an \n",
      "        algorithm for topic discovery.\n",
      "        Do not provide an introdu...\n",
      "\n",
      "\u001b[0m\u001b[1;3;38;2;155;135;227m> Running module 3e9743a5-8b82-450a-9184-98dde447ee7f with input: \n",
      "string_lda: ['price', '196', 'median', 'pa', 'dougherty', '000', '00', 'market', 'date', 'sales']\n",
      "['900', 'type', 'sales', 'market', 'information', 'summary', 'current', 'nearby', 'median', 'reported']\n",
      "['sale', '...\n",
      "num_topics: 2\n",
      "\n",
      "\u001b[0m\u001b[1;3;38;2;155;135;227m> Running module cb217f60-285a-46d0-93a8-d0f92504f5c4 with input: \n",
      "messages: Describe the topic of each of the 2 \n",
      "        double-quote delimited lists in a simple sentence. The lists are the result of an \n",
      "        algorithm for topic discovery.\n",
      "        Do not provide an introdu...\n",
      "\n",
      "\u001b[0m\u001b[1;3;38;2;155;135;227m> Running module ecf7cf01-32d6-49c1-8b05-138bace100c9 with input: \n",
      "string_lda: ['comp']\n",
      "['comp']\n",
      "['comp']\n",
      "['comp']\n",
      "['comp']\n",
      "\n",
      "num_topics: 2\n",
      "\n",
      "\u001b[0m\u001b[1;3;38;2;155;135;227m> Running module c4c182cc-cdf5-4d80-997a-2c2efcc4b5fe with input: \n",
      "messages: Describe the topic of each of the 2 \n",
      "        double-quote delimited lists in a simple sentence. The lists are the result of an \n",
      "        algorithm for topic discovery.\n",
      "        Do not provide an introdu...\n",
      "\n",
      "\u001b[0m\u001b[1;3;38;2;155;135;227m> Running module 56bb6a5c-27b0-46e6-9052-5c060facec13 with input: \n",
      "string_lda: ['430', '000', 'list', 'maximum', 'sales', 'average', 'value', '83', 'bank', 'sale']\n",
      "['900', '000', 'sales', '83', 'property', 'sale', 'value', 'maximum', 'count', 'comparable']\n",
      "['sales', 'owned', '90...\n",
      "num_topics: 2\n",
      "\n",
      "\u001b[0m\u001b[1;3;38;2;155;135;227m> Running module 75283b50-f314-4332-8e15-cb3103111b32 with input: \n",
      "messages: Describe the topic of each of the 2 \n",
      "        double-quote delimited lists in a simple sentence. The lists are the result of an \n",
      "        algorithm for topic discovery.\n",
      "        Do not provide an introdu...\n",
      "\n",
      "\u001b[0m\u001b[1;3;38;2;155;135;227m> Running module d8489a85-1412-4fba-ab10-46f48d46711c with input: \n",
      "string_lda: ['1904', '1975', 'reading', '1968', '08', 'rser', '003', 'public', '2016', '205loganave']\n",
      "['properties', 'eventsource', '2380', '009', '1968', '19609', '87', 'blvd', 'ful', 'dateldist']\n",
      "['wyomissing',...\n",
      "num_topics: 2\n",
      "\n",
      "\u001b[0m\u001b[1;3;38;2;155;135;227m> Running module 69b27650-6b61-40c6-824f-48445b568d29 with input: \n",
      "messages: Describe the topic of each of the 2 \n",
      "        double-quote delimited lists in a simple sentence. The lists are the result of an \n",
      "        algorithm for topic discovery.\n",
      "        Do not provide an introdu...\n",
      "\n",
      "\u001b[0m\u001b[1;3;38;2;155;135;227m> Running module 9736f096-1ee2-436c-8a46-6f27cd833159 with input: \n",
      "string_lda: ['price', '55', 'homes', 'sale', 'change', 'market', 'value', 'represents', '14', 'updated']\n",
      "['value', 'sales', 'weekly', 'represents', 'sale', 'property', 'change', 'subject', 'high', 'price']\n",
      "['14',...\n",
      "num_topics: 2\n",
      "\n",
      "\u001b[0m\u001b[1;3;38;2;155;135;227m> Running module 3f1a7b3f-1ed1-47e7-8679-88f4bd65992b with input: \n",
      "messages: Describe the topic of each of the 2 \n",
      "        double-quote delimited lists in a simple sentence. The lists are the result of an \n",
      "        algorithm for topic discovery.\n",
      "        Do not provide an introdu...\n",
      "\n",
      "\u001b[0m\u001b[1;3;38;2;155;135;227m> Running module 2b554c09-db45-4c65-9f97-d28cfea28e12 with input: \n",
      "string_lda: ['004', '167', '1976', '1975', '000', '1980', '11761', '2014', '2017', '3121']\n",
      "['year', 'price', '19610', 'trend', '12', '04', '2017', 'ct', '4121', 'rsfr']\n",
      "['brandywine', '19610', 'rsfr', '005', 'ct'...\n",
      "num_topics: 2\n",
      "\n",
      "\u001b[0m\u001b[1;3;38;2;155;135;227m> Running module 91f3d204-526e-40d0-a685-f196d8df719c with input: \n",
      "messages: Describe the topic of each of the 2 \n",
      "        double-quote delimited lists in a simple sentence. The lists are the result of an \n",
      "        algorithm for topic discovery.\n",
      "        Do not provide an introdu...\n",
      "\n",
      "\u001b[0m\u001b[1;3;38;2;155;135;227m> Running module cfa4e2a8-6a4c-4a07-b881-9ba309a8e6c4 with input: \n",
      "string_lda: ['00', 'just', 'family', 'agent', 'id', '12', 'sale', 'room', 'low', 'lower']\n",
      "['room', 'lower', 'level', 'house', 'use', 'family', 'subject', 'home', 'value', 'market']\n",
      "['000', 'year', 'price', 'accom...\n",
      "num_topics: 2\n",
      "\n",
      "\u001b[0m\u001b[1;3;38;2;155;135;227m> Running module 82872470-379c-46ec-b605-99d5e547fc5e with input: \n",
      "messages: Describe the topic of each of the 2 \n",
      "        double-quote delimited lists in a simple sentence. The lists are the result of an \n",
      "        algorithm for topic discovery.\n",
      "        Do not provide an introdu...\n",
      "\n",
      "\u001b[0m\u001b[1;3;38;2;155;135;227m> Running module 12243849-e436-441c-a6db-7eef5455cec6 with input: \n",
      "string_lda: ['100', '40', '91', '57', '044', '136', '36', '72', '969', 'contained']\n",
      "['report', 'subject', 'information', 'receiving', 'corelogic', 'copy', 'party', '72', '34', 'ordered']\n",
      "['100', '20', '80', '40',...\n",
      "num_topics: 2\n",
      "\n",
      "\u001b[0m\u001b[1;3;38;2;155;135;227m> Running module 25e03c19-abc8-4054-b063-8f3e866ab92a with input: \n",
      "messages: Describe the topic of each of the 2 \n",
      "        double-quote delimited lists in a simple sentence. The lists are the result of an \n",
      "        algorithm for topic discovery.\n",
      "        Do not provide an introdu...\n",
      "\n",
      "\u001b[0m\u001b[1;3;38;2;155;135;227m> Running module 23bbdf8c-e448-474c-bd6a-3da60d4bddac with input: \n",
      "string_lda: ['12', 'sales', 'current', 'listing', '19610', 'market', '1887', 'pa', 'days', 'usting']\n",
      "['low', 'current', '1887', 'brandywine', 'market', '12', 'wyomissing', 'sales', 'usting', 'days']\n",
      "['wyomissing'...\n",
      "num_topics: 2\n",
      "\n",
      "\u001b[0m\u001b[1;3;38;2;155;135;227m> Running module c57bbb73-5800-4d62-b31c-c38b89ab986a with input: \n",
      "messages: Describe the topic of each of the 2 \n",
      "        double-quote delimited lists in a simple sentence. The lists are the result of an \n",
      "        algorithm for topic discovery.\n",
      "        Do not provide an introdu...\n",
      "\n",
      "\u001b[0m\u001b[1;3;38;2;155;135;227m> Running module 006dd224-53fd-46cb-847c-ddf124f5336a with input: \n",
      "string_lda: ['default', '11', '000', '761', 'forrent', 'fr', 'pr', 'nearby', 'ave', '19609']\n",
      "['pr', '169', 'ave', '841', '900', 'reosale', 'trend', '761', 'legend', '11']\n",
      "['fr', '19609', 'foreclosure', '15', '196...\n",
      "num_topics: 2\n",
      "\n",
      "\u001b[0m\u001b[1;3;38;2;155;135;227m> Running module ddc0b1b2-eb4a-45a4-8886-4160d36d6bab with input: \n",
      "messages: Describe the topic of each of the 2 \n",
      "        double-quote delimited lists in a simple sentence. The lists are the result of an \n",
      "        algorithm for topic discovery.\n",
      "        Do not provide an introdu...\n",
      "\n",
      "\u001b[0m\u001b[1;3;38;2;155;135;227m> Running module 58dc88b7-7e6b-43f4-909c-f1d461c80ab0 with input: \n",
      "string_lda: ['management', 'corelogic', 'purposes', 'risk', 'report', 'include', 'subject', 'property']\n",
      "['management', 'risk', 'include', 'report', 'property', 'corelogic', 'subject', 'purposes']\n",
      "['corelogic', 'i...\n",
      "num_topics: 2\n",
      "\n",
      "\u001b[0m\u001b[1;3;38;2;155;135;227m> Running module df1e2bc4-6d30-4b36-8f01-e112b2e11d1d with input: \n",
      "messages: Describe the topic of each of the 2 \n",
      "        double-quote delimited lists in a simple sentence. The lists are the result of an \n",
      "        algorithm for topic discovery.\n",
      "        Do not provide an introdu...\n",
      "\n",
      "\u001b[0m\u001b[1;3;38;2;155;135;227m> Running module ae5cef61-e372-46a8-9445-5c86b82d0266 with input: \n",
      "string_lda: ['report']\n",
      "['report']\n",
      "['report']\n",
      "['report']\n",
      "['report']\n",
      "\n",
      "num_topics: 2\n",
      "\n",
      "\u001b[0m\u001b[1;3;38;2;155;135;227m> Running module 2c7db6e0-162e-441b-bbce-c5f9d1ee7ec0 with input: \n",
      "messages: Describe the topic of each of the 2 \n",
      "        double-quote delimited lists in a simple sentence. The lists are the result of an \n",
      "        algorithm for topic discovery.\n",
      "        Do not provide an introdu...\n",
      "\n",
      "\u001b[0m\u001b[1;3;38;2;155;135;227m> Running module 544ef663-16ac-4612-8c0a-f01ee7692c08 with input: \n",
      "string_lda: ['distance', 'comp', 'arc_1477', 'data', 'subject', 'discrepancy', 'accurate', 'report', 'validation', 'verify']\n",
      "['sqft', 'lot', 'living', 'data', 'discrepancy', 'validation', 'verify', 'accurate', 'c...\n",
      "num_topics: 2\n",
      "\n",
      "\u001b[0m\u001b[1;3;38;2;155;135;227m> Running module 4b055cb9-fa6c-4905-a4dc-302960fcb766 with input: \n",
      "messages: Describe the topic of each of the 2 \n",
      "        double-quote delimited lists in a simple sentence. The lists are the result of an \n",
      "        algorithm for topic discovery.\n",
      "        Do not provide an introdu...\n",
      "\n",
      "\u001b[0m\u001b[1;3;38;2;155;135;227m> Running module 1daec4be-8128-45af-8d19-c3e199fed9a6 with input: \n",
      "string_lda: ['196', 'nearby', '14', '000', 'price', '900', 'id', 'reported', 'summary', 'susan']\n",
      "['price', 'date', 'susan', '000', 'type', 'nearby', 'current', 'median', 'appraised', 'pa']\n",
      "['value', 'market', '34...\n",
      "num_topics: 2\n",
      "\n",
      "\u001b[0m\u001b[1;3;38;2;155;135;227m> Running module fad8ba50-d06d-4c7c-be9c-28beaecbdfcf with input: \n",
      "messages: Describe the topic of each of the 2 \n",
      "        double-quote delimited lists in a simple sentence. The lists are the result of an \n",
      "        algorithm for topic discovery.\n",
      "        Do not provide an introdu...\n",
      "\n",
      "\u001b[0m\u001b[1;3;38;2;155;135;227m> Running module 53ac1134-9004-4525-b8a3-b4d8df498ca0 with input: \n",
      "string_lda: ['00', '2010', 'home', '06', 'miles', 'june', 'yes', 'property', 'il', 'date']\n",
      "['just', 'id', 'agent', 'active', 'level', 'yes', 'price', 'resid', '000', 'il']\n",
      "['2011', '10', 'price', 'brandywine', 'w...\n",
      "num_topics: 2\n",
      "\n",
      "\u001b[0m\u001b[1;3;38;2;155;135;227m> Running module ea8ebca0-a846-47fb-8c81-b835009b4971 with input: \n",
      "messages: Describe the topic of each of the 2 \n",
      "        double-quote delimited lists in a simple sentence. The lists are the result of an \n",
      "        algorithm for topic discovery.\n",
      "        Do not provide an introdu...\n",
      "\n",
      "\u001b[0m\u001b[1;3;38;2;155;135;227m> Running module 17517342-7e0c-4aa8-9278-80f2d3d21c1c with input: \n",
      "string_lda: ['10', '18', '00', '31', '2011', 'area', 'dr', 'foreclosure', 'lake', 'miles']\n",
      "['year', 'price', 'foreclosure', 'lake', 'villa', 'yes', '000', 'area', '200', 'similar']\n",
      "['miles', '2010', '21', '000', ...\n",
      "num_topics: 2\n",
      "\n",
      "\u001b[0m\u001b[1;3;38;2;155;135;227m> Running module 5e053733-b6be-4e78-9108-60ef605fd98a with input: \n",
      "messages: Describe the topic of each of the 2 \n",
      "        double-quote delimited lists in a simple sentence. The lists are the result of an \n",
      "        algorithm for topic discovery.\n",
      "        Do not provide an introdu...\n",
      "\n",
      "\u001b[0m\u001b[1;3;38;2;155;135;227m> Running module 38d49e0c-2454-497a-88f0-3be6f1124cf9 with input: \n",
      "string_lda: ['00', '10', 'price', 'year', 'yes', '445', 'sale', '2011', 'value', '000']\n",
      "['000', 'rate', '356', '950', 'low', '500', '900', 'high', 'price', '259']\n",
      "['average', '356', 'rural', 'urban', '93', '357',...\n",
      "num_topics: 2\n",
      "\n",
      "\u001b[0m\u001b[1;3;38;2;155;135;227m> Running module 92ef909d-bcfa-4876-9a30-47af5c24ca23 with input: \n",
      "messages: Describe the topic of each of the 2 \n",
      "        double-quote delimited lists in a simple sentence. The lists are the result of an \n",
      "        algorithm for topic discovery.\n",
      "        Do not provide an introdu...\n",
      "\n",
      "\u001b[0m\u001b[1;3;38;2;155;135;227m> Running module 157dc8f0-0b44-4fc2-8cdc-47e268d81f26 with input: \n",
      "string_lda: ['49', 'subject', '000', '07', '617', '2011', '643', 'sqft', '639', '664']\n",
      "['blazing', '11', '99', 'star', 'villa', '60046', 'v3', '37121', '154', 'dr']\n",
      "['644', 'sale', 'sqft', 'prior', '10', 'lake', ...\n",
      "num_topics: 2\n",
      "\n",
      "\u001b[0m\u001b[1;3;38;2;155;135;227m> Running module f2309094-90af-4053-975b-6dbc766fa080 with input: \n",
      "messages: Describe the topic of each of the 2 \n",
      "        double-quote delimited lists in a simple sentence. The lists are the result of an \n",
      "        algorithm for topic discovery.\n",
      "        Do not provide an introdu...\n",
      "\n",
      "\u001b[0m\u001b[1;3;38;2;155;135;227m> Running module 393884a5-27de-471a-9f4d-2983dcc216d2 with input: \n",
      "string_lda: ['000', '2010', 'villa', '681', '60046', '10', '505', 'lake', 'il', '90']\n",
      "['sqft', 'ct', '657', 'price', 'built', '12', '06', '505', 'miles', 'basement']\n",
      "['90', 'address', 'sales', 'iris', 'subject', ...\n",
      "num_topics: 2\n",
      "\n",
      "\u001b[0m\u001b[1;3;38;2;155;135;227m> Running module b9ca7be4-e16b-4d34-b3fa-4bee5686bdd2 with input: \n",
      "messages: Describe the topic of each of the 2 \n",
      "        double-quote delimited lists in a simple sentence. The lists are the result of an \n",
      "        algorithm for topic discovery.\n",
      "        Do not provide an introdu...\n",
      "\n",
      "\u001b[0m\u001b[1;3;38;2;155;135;227m> Running module d2a6b460-c4f3-48df-85fb-cd7d829af50f with input: \n",
      "string_lda: ['carolina', 'map', 'comp', 'sale', 'reo']\n",
      "['comp', 'reo', 'sale', 'carolina', 'map']\n",
      "['sale', 'carolina', 'reo', 'comp', 'map']\n",
      "['map', 'comp', 'reo', 'carolina', 'sale']\n",
      "['comp', 'carolina', 'sale',...\n",
      "num_topics: 2\n",
      "\n",
      "\u001b[0m\u001b[1;3;38;2;155;135;227m> Running module 6a612253-d8af-4675-b71f-5ae802b50d72 with input: \n",
      "messages: Describe the topic of each of the 2 \n",
      "        double-quote delimited lists in a simple sentence. The lists are the result of an \n",
      "        algorithm for topic discovery.\n",
      "        Do not provide an introdu...\n",
      "\n",
      "\u001b[0m\u001b[1;3;38;2;155;135;227m> Running module 378922df-d8b3-4f25-bbd5-d78339ac64eb with input: \n",
      "string_lda: ['27', '01', '2011', '26', '12', '11', '13', '19', '14', '04']\n",
      "['30', '26', '12', '2010', '03', '24', '22', '04', '13', '44']\n",
      "['08', '44', '2010', '07', '25', '12', '13', '18', '03', 'appraisal']\n",
      "['ap...\n",
      "num_topics: 2\n",
      "\n",
      "\u001b[0m\u001b[1;3;38;2;155;135;227m> Running module 0ab9b0a4-67f0-41c6-99ff-074f90c25a84 with input: \n",
      "messages: Describe the topic of each of the 2 \n",
      "        double-quote delimited lists in a simple sentence. The lists are the result of an \n",
      "        algorithm for topic discovery.\n",
      "        Do not provide an introdu...\n",
      "\n",
      "\u001b[0m\u001b[1;3;38;2;155;135;227m> Running module c4635fda-9abe-45e4-8c04-40db90a6a024 with input: \n",
      "string_lda: ['price', 'weekly', '34', 'sale', 'list', '000', 'listings', '25', '54', 'subject']\n",
      "['19', '14', '49', 'west', 'public', '30', '900', '17', 'price', 'code']\n",
      "['listings', 'days', 'ave', 'il', 'lawn', '...\n",
      "num_topics: 2\n",
      "\n",
      "\u001b[0m\u001b[1;3;38;2;155;135;227m> Running module cc8cf2b0-f44c-4bff-a747-8241775bc90a with input: \n",
      "messages: Describe the topic of each of the 2 \n",
      "        double-quote delimited lists in a simple sentence. The lists are the result of an \n",
      "        algorithm for topic discovery.\n",
      "        Do not provide an introdu...\n",
      "\n",
      "\u001b[0m\u001b[1;3;38;2;155;135;227m> Running module c56d590d-6ebd-4ef6-8506-62bf7b9576a6 with input: \n",
      "string_lda: ['trend', 'sales', 'market', 'foreciosure', 'subject', 'foreclosure', 'sale', 'surrounding', 'short', 'property']\n",
      "['foreclosure', 'market', 'subject', 'surrounding', 'property', 'sale', 'trend', 'sale...\n",
      "num_topics: 2\n",
      "\n",
      "\u001b[0m\u001b[1;3;38;2;155;135;227m> Running module 0580d137-0823-4ebd-abfb-8b7553abb6ad with input: \n",
      "messages: Describe the topic of each of the 2 \n",
      "        double-quote delimited lists in a simple sentence. The lists are the result of an \n",
      "        algorithm for topic discovery.\n",
      "        Do not provide an introdu...\n",
      "\n",
      "\u001b[0m\u001b[1;3;38;2;155;135;227m> Running module fd5fc78b-3948-4fd4-8021-fb1fb3b30d05 with input: \n",
      "string_lda: ['rsfr', '19610', 'brandywine', '000', 'rd', '117', '02', '1977', '05', '11']\n",
      "['100', '93', '36', '40', '80', '48', '34', '46', '092', '87']\n",
      "['100', '89', '140', '136', '258', '35', '188', '87', '167'...\n",
      "num_topics: 2\n",
      "\n",
      "\u001b[0m\u001b[1;3;38;2;155;135;227m> Running module 3caf4296-0860-4a3f-a8b3-c8a1caef0f74 with input: \n",
      "messages: Describe the topic of each of the 2 \n",
      "        double-quote delimited lists in a simple sentence. The lists are the result of an \n",
      "        algorithm for topic discovery.\n",
      "        Do not provide an introdu...\n",
      "\n",
      "\u001b[0m\u001b[1;3;38;2;155;135;227m> Running module fade241f-7ce3-425a-a580-568af30dda5e with input: \n",
      "string_lda: ['agreement', 'license', 'mls', 'date', 'bright', 'access', 'database', 'order', 'exhibit', 'parties']\n",
      "['com', 'clearcapital', 'terms', 'standard', 'license', 'hereof', 'database', 'mls', 'conditions'...\n",
      "num_topics: 2\n",
      "\n",
      "\u001b[0m\u001b[1;3;38;2;155;135;227m> Running module efe8fb33-43ec-4687-8d62-edaaedead9d4 with input: \n",
      "messages: Describe the topic of each of the 2 \n",
      "        double-quote delimited lists in a simple sentence. The lists are the result of an \n",
      "        algorithm for topic discovery.\n",
      "        Do not provide an introdu...\n",
      "\n",
      "\u001b[0m\u001b[1;3;38;2;155;135;227m> Running module aee883c0-45ac-4fd8-a718-5bba53e987cc with input: \n",
      "string_lda: ['restrictions', 'bright', 'database', 'license', 'rights', 'proprietary', 'notices', 'terms', 'access', 'additional']\n",
      "['bright', 'service', 'portion', 'information', 'use', 'form', 'marketing', 'prio...\n",
      "num_topics: 2\n",
      "\n",
      "\u001b[0m\u001b[1;3;38;2;155;135;227m> Running module f322da61-1db8-4e22-a1f7-7281770c011d with input: \n",
      "messages: Describe the topic of each of the 2 \n",
      "        double-quote delimited lists in a simple sentence. The lists are the result of an \n",
      "        algorithm for topic discovery.\n",
      "        Do not provide an introdu...\n",
      "\n",
      "\u001b[0m\u001b[1;3;38;2;155;135;227m> Running module de41e87f-9da2-40dd-a5ca-7b0d9e33761c with input: \n",
      "string_lda: ['licensee', 'bright', 'account', 'shall', 'agreement', 'access', 'audit', 'responsible', 'pay', 'amounts']\n",
      "['feedback', 'confidentiality', 'rights', 'payments', 'audit', 'agrees', 'amounts', 'fees', ...\n",
      "num_topics: 2\n",
      "\n",
      "\u001b[0m\u001b[1;3;38;2;155;135;227m> Running module 12ec932d-774f-498f-9944-15808c53b612 with input: \n",
      "messages: Describe the topic of each of the 2 \n",
      "        double-quote delimited lists in a simple sentence. The lists are the result of an \n",
      "        algorithm for topic discovery.\n",
      "        Do not provide an introdu...\n",
      "\n",
      "\u001b[0m\u001b[1;3;38;2;155;135;227m> Running module 19c5bf9e-3fbd-4f4b-9a6d-c77a4bafc812 with input: \n",
      "string_lda: ['10', 'security', 'damages', 'limitation', 'business', 'renewal', 'liability', 'sole', 'term', 'breaches']\n",
      "['termination', 'bright', 'licensee', 'shall', 'agreement', 'date', 'term', 'expiration', 'd...\n",
      "num_topics: 2\n",
      "\n",
      "\u001b[0m\u001b[1;3;38;2;155;135;227m> Running module 6223a1e3-73a2-4086-8b86-424ac77c042a with input: \n",
      "messages: Describe the topic of each of the 2 \n",
      "        double-quote delimited lists in a simple sentence. The lists are the result of an \n",
      "        algorithm for topic discovery.\n",
      "        Do not provide an introdu...\n",
      "\n",
      "\u001b[0m\u001b[1;3;38;2;155;135;227m> Running module 0de69458-050f-40b9-83d2-cabca258583a with input: \n",
      "string_lda: ['claims', 'party', 'contractor', 'shall', 'dispute', 'consent', 'agreement', 'action', 'licensee', 'prior']\n",
      "['bright', 'terms', 'database', 'agreement', 'amendment', 'jurisdiction', 'federal', 'waive...\n",
      "num_topics: 2\n",
      "\n",
      "\u001b[0m\u001b[1;3;38;2;155;135;227m> Running module ce937fe2-4f3e-477d-b111-34403108f58d with input: \n",
      "messages: Describe the topic of each of the 2 \n",
      "        double-quote delimited lists in a simple sentence. The lists are the result of an \n",
      "        algorithm for topic discovery.\n",
      "        Do not provide an introdu...\n",
      "\n",
      "\u001b[0m\u001b[1;3;38;2;155;135;227m> Running module 48f0f1ac-b7f3-4444-a2e1-942f5f4f9c2e with input: \n",
      "string_lda: ['bright', 'access', 'database', 'agreement', 'service', 'including', 'means', 'limitation', 'content', 'information']\n",
      "['bright', 'content', 'database', 'means', 'limitation', 'agreement', 'including'...\n",
      "num_topics: 2\n",
      "\n",
      "\u001b[0m\u001b[1;3;38;2;155;135;227m> Running module 078f531d-4290-4cf6-b5ab-2934d66bca68 with input: \n",
      "messages: Describe the topic of each of the 2 \n",
      "        double-quote delimited lists in a simple sentence. The lists are the result of an \n",
      "        algorithm for topic discovery.\n",
      "        Do not provide an introdu...\n",
      "\n",
      "\u001b[0m\u001b[1;3;38;2;155;135;227m> Running module 617bc30c-022e-423a-ae79-b9f4109d92bd with input: \n",
      "string_lda: ['product', 'license', 'mv', 'access', 'ap', 'products', 'bright', 'agreement', 'report', 'database']\n",
      "['valuation', 'report', 'meaning', 'reports', 'market', 'clear', 'parcels', 'bright', 'mv', 'prope...\n",
      "num_topics: 2\n",
      "\n",
      "\u001b[0m\u001b[1;3;38;2;155;135;227m> Running module af0b0807-e537-4493-a02b-4ce7f9ea5c06 with input: \n",
      "messages: Describe the topic of each of the 2 \n",
      "        double-quote delimited lists in a simple sentence. The lists are the result of an \n",
      "        algorithm for topic discovery.\n",
      "        Do not provide an introdu...\n",
      "\n",
      "\u001b[0m\u001b[1;3;38;2;155;135;227m> Running module 56753dd3-a329-4cf3-b652-a5a82f2246c8 with input: \n",
      "string_lda: ['data', 'rtcma', 'real', 'bright', 'conditions', 'market', 'estate']\n",
      "['estate', 'rtcma', 'conditions', 'data', 'market', 'bright', 'real']\n",
      "['bright', 'data', 'estate', 'rtcma', 'market', 'conditions'...\n",
      "num_topics: 2\n",
      "\n",
      "\u001b[0m\u001b[1;3;38;2;155;135;227m> Running module b6d4e4a2-df9b-46b8-8e11-22527e5ddce3 with input: \n",
      "messages: Describe the topic of each of the 2 \n",
      "        double-quote delimited lists in a simple sentence. The lists are the result of an \n",
      "        algorithm for topic discovery.\n",
      "        Do not provide an introdu...\n",
      "\n",
      "\u001b[0m\u001b[1;3;38;2;155;135;227m> Running module 5d11556a-5b3a-4283-81fa-d0090ddef53c with input: \n",
      "string_lda: ['license', 'charge', '2021', 'fees', 'fee', '000', 'share', 'unpaid', 'licensee', '980']\n",
      "['year', 'prior', 'non', 'licensee', '30', 'license', 'finance', 'estimated', 'gross', 'quarterly']\n",
      "['month', ...\n",
      "num_topics: 2\n",
      "\n",
      "\u001b[0m\u001b[1;3;38;2;155;135;227m> Running module bae351fa-15a6-4313-88a5-c7611977f31d with input: \n",
      "messages: Describe the topic of each of the 2 \n",
      "        double-quote delimited lists in a simple sentence. The lists are the result of an \n",
      "        algorithm for topic discovery.\n",
      "        Do not provide an introdu...\n",
      "\n",
      "\u001b[0m\u001b[1;3;38;2;155;135;227m> Running module 95ea06eb-06f9-49f7-a9b3-34f46319c6f4 with input: \n",
      "string_lda: ['approved', 'content', 'property', 'types', 'sold', 'residential']\n",
      "['sold', 'approved', 'property', 'residential', 'content', 'types']\n",
      "['property', 'types', 'sold', 'content', 'residential', 'approve...\n",
      "num_topics: 2\n",
      "\n",
      "\u001b[0m\u001b[1;3;38;2;155;135;227m> Running module 60c9a8da-383f-40fe-8dd4-cefcc95aa894 with input: \n",
      "messages: Describe the topic of each of the 2 \n",
      "        double-quote delimited lists in a simple sentence. The lists are the result of an \n",
      "        algorithm for topic discovery.\n",
      "        Do not provide an introdu...\n",
      "\n",
      "\u001b[0m\u001b[1;3;38;2;155;135;227m> Running module 95940013-2536-44ea-8dbb-0634d40d19de with input: \n",
      "string_lda: ['agreement', 'services', 'capital', 'database', 'license', 'transmit', 'bright', 'notwithstanding', 'similar', 'data']\n",
      "['capital', 'clear', 'products', 'portion', 'product', 'mls', 'shall', 'include'...\n",
      "num_topics: 2\n",
      "\n",
      "\u001b[0m\u001b[1;3;38;2;155;135;227m> Running module 4e1ad0ba-761a-49d3-b03b-3c3805ab743b with input: \n",
      "messages: Describe the topic of each of the 2 \n",
      "        double-quote delimited lists in a simple sentence. The lists are the result of an \n",
      "        algorithm for topic discovery.\n",
      "        Do not provide an introdu...\n",
      "\n",
      "\u001b[0m\u001b[1;3;38;2;155;135;227m> Running module 61c12ab7-94ca-4d51-972f-5b5d3be8e3df with input: \n",
      "string_lda: ['brightmls', 'com', 'agreement', 'information', 'client', 'confidential', 'party', 'date', 'parties', 'effective']\n",
      "['web', 'provider', 'site', 'include', 'means', 'parties', 'www', 'agree', 'client',...\n",
      "num_topics: 2\n",
      "\n",
      "\u001b[0m\u001b[1;3;38;2;155;135;227m> Running module 5039f8d4-2ead-4bdb-b700-834e8666de07 with input: \n",
      "messages: Describe the topic of each of the 2 \n",
      "        double-quote delimited lists in a simple sentence. The lists are the result of an \n",
      "        algorithm for topic discovery.\n",
      "        Do not provide an introdu...\n",
      "\n",
      "\u001b[0m\u001b[1;3;38;2;155;135;227m> Running module 7f7694c5-c641-4408-bc07-d85735af22e8 with input: \n",
      "string_lda: ['15', 'hereof', 'delivered', 'report', 'month', 'means', 'agreement', 'individual', 'contains', 'including']\n",
      "['data', 'provider', 'services', 'means', 'monthly', 'terms', 'period', 'agreement', 'here...\n",
      "num_topics: 2\n",
      "\n",
      "\u001b[0m\u001b[1;3;38;2;155;135;227m> Running module 6e0221a4-6545-43ed-81ae-4dc9847c75cc with input: \n",
      "messages: Describe the topic of each of the 2 \n",
      "        double-quote delimited lists in a simple sentence. The lists are the result of an \n",
      "        algorithm for topic discovery.\n",
      "        Do not provide an introdu...\n",
      "\n",
      "\u001b[0m\u001b[1;3;38;2;155;135;227m> Running module 4aafd4aa-eb1c-4491-b0a0-f54a28b19092 with input: \n",
      "string_lda: ['license', 'client', 'agreement', 'non', 'content', 'grants', 'access', 'limited', 'obligations', 'exclusive']\n",
      "['services', 'web', 'branded', 'means', 'provider', 'scheduling', 'user', 'design', 'are...\n",
      "num_topics: 2\n",
      "\n",
      "\u001b[0m\u001b[1;3;38;2;155;135;227m> Running module 5332f843-debf-4ddd-ae00-7cdb705b7ed2 with input: \n",
      "messages: Describe the topic of each of the 2 \n",
      "        double-quote delimited lists in a simple sentence. The lists are the result of an \n",
      "        algorithm for topic discovery.\n",
      "        Do not provide an introdu...\n",
      "\n",
      "\u001b[0m\u001b[1;3;38;2;155;135;227m> Running module 97261e38-ad1e-4a98-a1e3-1ea3b88537da with input: \n",
      "string_lda: ['30', 'exceed', 'estimate', 'agrees', 'client', 'days', 'corrections', 'thirty', 'error', 'discretion']\n",
      "['operation', 'sole', 'writing', 'event', 'necessary', 'area', 'services', 'enhancements', 'con...\n",
      "num_topics: 2\n",
      "\n",
      "\u001b[0m\u001b[1;3;38;2;155;135;227m> Running module da14fc41-cda0-46ad-9ec2-51bbee4bd6f9 with input: \n",
      "messages: Describe the topic of each of the 2 \n",
      "        double-quote delimited lists in a simple sentence. The lists are the result of an \n",
      "        algorithm for topic discovery.\n",
      "        Do not provide an introdu...\n",
      "\n",
      "\u001b[0m\u001b[1;3;38;2;155;135;227m> Running module de315302-a6f5-480d-b977-12c45cb82a99 with input: \n",
      "string_lda: ['monthly', 'fee', 'accurate', 'subscription', 'agrees', 'records', 'client', 'participants', 'participant', 'charges']\n",
      "['promotion', 'time', 'excluded', 'participation', 'writing', 'billing', 'report...\n",
      "num_topics: 2\n",
      "\n",
      "\u001b[0m\u001b[1;3;38;2;155;135;227m> Running module 0d00f9bb-11b7-485b-bae9-8ecd593ccb64 with input: \n",
      "messages: Describe the topic of each of the 2 \n",
      "        double-quote delimited lists in a simple sentence. The lists are the result of an \n",
      "        algorithm for topic discovery.\n",
      "        Do not provide an introdu...\n",
      "\n",
      "\u001b[0m\u001b[1;3;38;2;155;135;227m> Running module a1a6ab05-906c-4248-8619-8d89f3c92d8d with input: \n",
      "string_lda: ['foregoing', '30', 'notice', 'default', 'termination', 'client', 'accordance', 'law', 'ninety', 'thirty']\n",
      "['date', 'amounts', 'terms', 'law', 'portion', 'notice', 'month', '90', 'undisputed', 'pay']\n",
      "...\n",
      "num_topics: 2\n",
      "\n",
      "\u001b[0m\u001b[1;3;38;2;155;135;227m> Running module 81148aea-045c-4e42-ac95-af47a652680a with input: \n",
      "messages: Describe the topic of each of the 2 \n",
      "        double-quote delimited lists in a simple sentence. The lists are the result of an \n",
      "        algorithm for topic discovery.\n",
      "        Do not provide an introdu...\n",
      "\n",
      "\u001b[0m\u001b[1;3;38;2;155;135;227m> Running module 6c30f526-a7b6-4415-bb4f-1659b36d1dd1 with input: \n",
      "string_lda: ['client', 'provider', 'shall', 'content', 'intellectual', 'including', 'application', 'property', 'site', 'agreement']\n",
      "['agreement', 'names', 'service', 'marks', 'trade', 'termination', 'area', 'gran...\n",
      "num_topics: 2\n",
      "\n",
      "\u001b[0m\u001b[1;3;38;2;155;135;227m> Running module 131bec19-c1a5-4c46-83c3-bd8c84a3384b with input: \n",
      "messages: Describe the topic of each of the 2 \n",
      "        double-quote delimited lists in a simple sentence. The lists are the result of an \n",
      "        algorithm for topic discovery.\n",
      "        Do not provide an introdu...\n",
      "\n",
      "\u001b[0m\u001b[1;3;38;2;155;135;227m> Running module 399961dd-721f-44be-9799-470faf4bfd2a with input: \n",
      "string_lda: ['client', 'content', 'agreement', 'information', 'hold', 'disclose', 'data', 'generated', 'summary', 'shall']\n",
      "['provider', 'content', 'user', 'generated', 'data', 'client', 'limited', 'shall', 'servi...\n",
      "num_topics: 2\n",
      "\n",
      "\u001b[0m\u001b[1;3;38;2;155;135;227m> Running module 2be0d9cf-c102-47a2-bd30-2d7c577cc315 with input: \n",
      "messages: Describe the topic of each of the 2 \n",
      "        double-quote delimited lists in a simple sentence. The lists are the result of an \n",
      "        algorithm for topic discovery.\n",
      "        Do not provide an introdu...\n",
      "\n",
      "\u001b[0m\u001b[1;3;38;2;155;135;227m> Running module fe2e4077-ff2f-4eb5-8c45-764ec50eeba0 with input: \n",
      "string_lda: ['provider', 'agreement', 'party', 'make', 'including', 'parties', 'warranties', 'limited', 'area', 'confidential']\n",
      "['warranties', 'scheduling', 'make', 'services', 'provider', 'party', 'branded', 'in...\n",
      "num_topics: 2\n",
      "\n",
      "\u001b[0m\u001b[1;3;38;2;155;135;227m> Running module f8eb718e-b1a4-4796-9e70-71213251c78e with input: \n",
      "messages: Describe the topic of each of the 2 \n",
      "        double-quote delimited lists in a simple sentence. The lists are the result of an \n",
      "        algorithm for topic discovery.\n",
      "        Do not provide an introdu...\n",
      "\n",
      "\u001b[0m\u001b[1;3;38;2;155;135;227m> Running module 551815b7-75e0-4277-9e45-0c1b126a454e with input: \n",
      "string_lda: ['10', 'client', 'content', 'including', 'limitation', 'provided', 'infringe', 'agreement', 'does', 'performance']\n",
      "['client', 'web', 'sites', 'warrants', 'represents', 'agreement', 'reasonable', 'righ...\n",
      "num_topics: 2\n",
      "\n",
      "\u001b[0m\u001b[1;3;38;2;155;135;227m> Running module c2b99b2e-26d8-4100-9b52-a495ecb6d292 with input: \n",
      "messages: Describe the topic of each of the 2 \n",
      "        double-quote delimited lists in a simple sentence. The lists are the result of an \n",
      "        algorithm for topic discovery.\n",
      "        Do not provide an introdu...\n",
      "\n",
      "\u001b[0m\u001b[1;3;38;2;155;135;227m> Running module 7a49ceab-55b6-4a0d-a62a-4c695e13725a with input: \n",
      "string_lda: ['10', 'fees', 'agreement', 'forth', 'defense', 'including', 'indemnify', 'liability', 'client', 'warranties']\n",
      "['shall', 'claim', 'defense', 'indemnified', 'indemnification', 'party', 'reasonable', 'l...\n",
      "num_topics: 2\n",
      "\n",
      "\u001b[0m\u001b[1;3;38;2;155;135;227m> Running module fe283d13-344b-4a17-add3-90e424022cb0 with input: \n",
      "messages: Describe the topic of each of the 2 \n",
      "        double-quote delimited lists in a simple sentence. The lists are the result of an \n",
      "        algorithm for topic discovery.\n",
      "        Do not provide an introdu...\n",
      "\n",
      "\u001b[0m\u001b[1;3;38;2;155;135;227m> Running module 30c456b1-8be9-4a5e-a176-faf232bd777b with input: \n",
      "string_lda: ['party', '12', 'connection', 'remedy', 'competent', 'affiliates', 'construed', 'court', 'binding', 'agreement']\n",
      "['initiated', 'binding', 'shall', 'provider', 'decision', 'courts', 'action', 'arbitrat...\n",
      "num_topics: 2\n",
      "\n",
      "\u001b[0m\u001b[1;3;38;2;155;135;227m> Running module 35426486-ec73-4119-8323-723f15c02105 with input: \n",
      "messages: Describe the topic of each of the 2 \n",
      "        double-quote delimited lists in a simple sentence. The lists are the result of an \n",
      "        algorithm for topic discovery.\n",
      "        Do not provide an introdu...\n",
      "\n",
      "\u001b[0m\u001b[1;3;38;2;155;135;227m> Running module 183dbd09-42da-4cd9-a1b8-90de4c6e5d12 with input: \n",
      "string_lda: ['12', 'agency', 'party', 'equitable', 'great', 'breach', 'injunctive', 'shall', 'create', 'power']\n",
      "['notices', 'force', 'remedy', 'party', 'provider', 'writing', 'services', 'effective', 'terms', 'pr...\n",
      "num_topics: 2\n",
      "\n",
      "\u001b[0m\u001b[1;3;38;2;155;135;227m> Running module 9c60e518-3d6c-42d5-a7d2-22ab38dbe5d8 with input: \n",
      "messages: Describe the topic of each of the 2 \n",
      "        double-quote delimited lists in a simple sentence. The lists are the result of an \n",
      "        algorithm for topic discovery.\n",
      "        Do not provide an introdu...\n",
      "\n",
      "\u001b[0m\u001b[1;3;38;2;155;135;227m> Running module 0e2c2ddf-6608-408a-b580-6c78c5d9c7bd with input: \n",
      "string_lda: ['section', '11', 'agreement', 'termination', 'survive', '12', 'party', 'parties', 'counsel']\n",
      "['12', 'party', 'survive', 'termination', 'agreement', 'parties', '11', 'section', 'counsel']\n",
      "['counsel', ...\n",
      "num_topics: 2\n",
      "\n",
      "\u001b[0m\u001b[1;3;38;2;155;135;227m> Running module c56d2319-5c29-4041-8860-99b70ebdbc54 with input: \n",
      "messages: Describe the topic of each of the 2 \n",
      "        double-quote delimited lists in a simple sentence. The lists are the result of an \n",
      "        algorithm for topic discovery.\n",
      "        Do not provide an introdu...\n",
      "\n",
      "\u001b[0m\u001b[1;3;38;2;155;135;227m> Running module 7abec978-d9e8-4d3e-8979-a2542d8caa80 with input: \n",
      "string_lda: ['000', '001', '60', 'fee', '80', 'discount', '70', '50', 'fees', 'billing']\n",
      "['participant', 'mls', 'types', 'client', 'period', 'following', 'billing', 'participants', 'event', 'fee']\n",
      "['annual', '001...\n",
      "num_topics: 2\n",
      "\n",
      "\u001b[0m\u001b[1;3;38;2;155;135;227m> Running module 89a34a79-d785-4de6-963b-50c888f798d1 with input: \n",
      "messages: Describe the topic of each of the 2 \n",
      "        double-quote delimited lists in a simple sentence. The lists are the result of an \n",
      "        algorithm for topic discovery.\n",
      "        Do not provide an introdu...\n",
      "\n",
      "\u001b[0m\u001b[1;3;38;2;155;135;227m> Running module c28eaa8b-a6bf-4aba-aaef-2985f3ab5c65 with input: \n",
      "string_lda: ['showingtime', 'homeowner', 'existing', 'client', 'revenue', 'previously', 'following', 'confirm', 'choice', 'agent']\n",
      "['mls', 'currently', 'instructions', 'mlss', 'quarterly', 'optionally', 'center',...\n",
      "num_topics: 2\n",
      "\n",
      "\u001b[0m\u001b[1;3;38;2;155;135;227m> Running module 3a7c2b39-4b79-4483-8778-d0270d15e6b1 with input: \n",
      "messages: Describe the topic of each of the 2 \n",
      "        double-quote delimited lists in a simple sentence. The lists are the result of an \n",
      "        algorithm for topic discovery.\n",
      "        Do not provide an introdu...\n",
      "\n",
      "\u001b[0m\u001b[1;3;38;2;155;135;227m> Running module bc030614-9976-413b-b78f-75c1610f73db with input: \n",
      "string_lda: ['text', 'phone', 'calls', 'agent', 'listing', 'showingtime', 'make', 'appointment', 'request', 'homeowner']\n",
      "['instructions', 'appointment', 'isn', 'calls', 'showing', 'mode', 'phone', 'text', 'email'...\n",
      "num_topics: 2\n",
      "\n",
      "\u001b[0m\u001b[1;3;38;2;155;135;227m> Running module 10282f5c-b621-44f9-9310-3a9e19707420 with input: \n",
      "messages: Describe the topic of each of the 2 \n",
      "        double-quote delimited lists in a simple sentence. The lists are the result of an \n",
      "        algorithm for topic discovery.\n",
      "        Do not provide an introdu...\n",
      "\n",
      "\u001b[0m\u001b[1;3;38;2;155;135;227m> Running module 806cd007-ff0c-452a-9730-206b69937bf6 with input: \n",
      "string_lda: ['listing', 'office', 'agent', 'mobile', 'appointment', 'immediately', 'staff', 'confirmed', 'notifications', 'showing']\n",
      "['mls', 'showing', 'requests', 'interactive', 'include', 'service', 'website', ...\n",
      "num_topics: 2\n",
      "\n",
      "\u001b[0m\u001b[1;3;38;2;155;135;227m> Running module fc9711dd-369f-4df2-bde6-d808daaf445e with input: \n",
      "messages: Describe the topic of each of the 2 \n",
      "        double-quote delimited lists in a simple sentence. The lists are the result of an \n",
      "        algorithm for topic discovery.\n",
      "        Do not provide an introdu...\n",
      "\n",
      "\u001b[0m\u001b[1;3;38;2;155;135;227m> Running module e26bbee2-e397-4d7f-895e-4ad5a7811705 with input: \n",
      "string_lda: ['site', 'client', 'additional', 'annually', 'functionality', 'agrees', 'buyer', 'web', 'added', '00']\n",
      "['mls', 'time', 'agreement', 'bright', 'association', 'services', 'brightmls', 'integrate', 'nove...\n",
      "num_topics: 2\n",
      "\n",
      "\u001b[0m\u001b[1;3;38;2;155;135;227m> Running module d723fb65-3442-4637-b776-339b0c7ab954 with input: \n",
      "messages: Describe the topic of each of the 2 \n",
      "        double-quote delimited lists in a simple sentence. The lists are the result of an \n",
      "        algorithm for topic discovery.\n",
      "        Do not provide an introdu...\n",
      "\n",
      "\u001b[0m\u001b[1;3;38;2;155;135;227m> Running module 100253c2-0911-4c1b-975d-21d37a87b6f2 with input: \n",
      "string_lda: ['agreement', 'customers', 'additional', 'conditions', 'business', 'adversely', 'bright', 'client', 'example', 'continuous']\n",
      "['critical', 'loss', 'service', 'business', 'customers', 'normal', 'hours',...\n",
      "num_topics: 2\n",
      "\n",
      "\u001b[0m\u001b[1;3;38;2;155;135;227m> Running module c889cd82-347a-493c-9eec-3ad46ae96f2d with input: \n",
      "messages: Describe the topic of each of the 2 \n",
      "        double-quote delimited lists in a simple sentence. The lists are the result of an \n",
      "        algorithm for topic discovery.\n",
      "        Do not provide an introdu...\n",
      "\n",
      "\u001b[0m"
     ]
    }
   ],
   "source": [
    "extractor = CustomExtractor()\n",
    "tf_idf=extractor.extract(nodes_parsed)"
   ]
  },
  {
   "cell_type": "code",
   "execution_count": 30,
   "metadata": {},
   "outputs": [],
   "source": [
    "for node, topics in zip(nodes_parsed, tf_idf):\n",
    "    node.metadata['lda_topcis']= topics"
   ]
  },
  {
   "cell_type": "code",
   "execution_count": null,
   "metadata": {},
   "outputs": [],
   "source": []
  },
  {
   "cell_type": "code",
   "execution_count": 32,
   "metadata": {},
   "outputs": [],
   "source": [
    "index=VectorStoreIndex(nodes_parsed)"
   ]
  },
  {
   "cell_type": "code",
   "execution_count": 33,
   "metadata": {},
   "outputs": [],
   "source": [
    "context_str=\"\"\"You're an assistant who fetches answers from the documents. Add all the necessary details.\"\"\""
   ]
  },
  {
   "cell_type": "code",
   "execution_count": 34,
   "metadata": {},
   "outputs": [],
   "source": [
    "template = \"\"\"\n",
    "You are a knowledgeable and precise assistant specialized in question-answering tasks, \n",
    "particularly from documented sources. \n",
    "Your goal is to provide accurate, concise, and contextually relevant answers based on the given information.\n",
    "\n",
    "You are provided with 4 documents, namely: BPP_Bright final agreement_SPB signature_5.13.19 (15), Bright CoreLogic Infonet Agreement (Executed), CC_Bright_Clear Capital Access and License Agreement_FINAL - 20210728 and Signed ShowingTime for the MLS Agreement with Bright MLS 1.1.18 (4).\n",
    "You have to answer each question for each of the four documents:\n",
    "Use this format for generating response:\n",
    "'''\n",
    "Document 1: BPP_Bright final agreement_SPB signature_5.13.19 (15)\n",
    "<your response pertaining to BPP_Bright final agreement_SPB signature_5.13.19 (15), based on the metadata where file_name:  BPP_Bright final agreement_SPB signature_5.13.19 (15).pdf>\n",
    "\n",
    "Document 2: Bright CoreLogic Infonet Agreement (Executed)\n",
    "<your response pertaining to Bright CoreLogic Infonet Agreement (Executed), based on the metadata where file_name:  Bright CoreLogic Infonet Agreement (Executed).pdf>\n",
    "\n",
    "Document 3: CC_Bright_Clear Capital Access and License Agreement_FINAL - 20210728\n",
    "<your response pertaining to BPP_Bright final agreement_SPB signature_5.13.19 (15), based on the metadata where file_name:  CC_Bright_Clear Capital Access and License Agreement_FINAL - 20210728.pdf>\n",
    "\n",
    "Document 4: Signed ShowingTime for the MLS Agreement with Bright MLS 1.1.18 (4)\n",
    "<your response pertaining to BPP_Bright final agreement_SPB signature_5.13.19 (15), based on the metadata where file_name:  Signed ShowingTime for the MLS Agreement with Bright MLS 1.1.18 (4).pdf>\n",
    "'''\n",
    "\n",
    "Instructions:\n",
    "\n",
    "Answer the following question using the provided context. Make sure your answer is concise, accurate, and contextually relevant.\n",
    "Terms and Policies: When you're asked questions like \"What's the term of the agreement?\", you should first check the section number that corresponds to the 'term' and provide the appropriate answer. This also applies to other terminologies such as 'policies','confidentiality', 'trademarks', 'intellectual property rights' and so on. You must refer the section number which corresponds to the terms, and provide the relevant, detailed answer mentioned in the section\n",
    "Parties Involved: when referring to the parties involved, find the 'specific names' of the parties along with their role and not just their role. For example, don't refer to parties by just 'Licensee' use '<company name> (Licensee)'\n",
    "Parties involved in the agreement: Keep in mind that the parties referred to the agreement are actually the 'Companies' involved in the particular agreement. Hence, while referring to 'parties', generate the company names that play a role in the agreement. Never mention solely the role, such as 'Licensee' or 'Licensor' these are not the companies' names. Always mention the \"Companies' name\"\n",
    "Dates: When it comes to retrieving information pertaining to dates in the document, look for the event/term associated with each date. For example, effective date is associated with the keyword 'effective date' or any of its synonyms and you must find the date corresponding to that. Similarly, it's important to find dates of signature in the document. They're usually(not always) denoted in the format __/__/____\n",
    "Dates of Signatue: Any date of the format: __/__/____ Eg: 8/4/2021, or 8/5/2021 are dates on which the documents were signed (dates of signature)\n",
    "Address: An address is of the following format: <Number> <Street name> <Area name> <Pin code> for example: 660 American Avenue, King of Prussia, PA, 19406 \n",
    "Comprehension and Accuracy: Carefully read and comprehend the provided context from the documents to ensure accuracy in your response.\n",
    "Truthfulness: If the context does not provide enough information to answer the question, clearly state, \"I don't know.\"\n",
    "Contextual Relevance: Ensure your answer is well-supported by the retrieved context and does not include any information beyond what is provided.\n",
    "\n",
    "If asked any question like: \"Who are the parties to the agreement?\": answer the question for \"Who are the companies to the agreement?\"\n",
    "\n",
    "Remember if no context is provided please say you don't know the answer\n",
    "Here is the question and context for you to work with:\n",
    "\n",
    "\\nQuestion: {question} \\nContext: {context} \\nAnswer:\"\"\""
   ]
  },
  {
   "cell_type": "code",
   "execution_count": 35,
   "metadata": {},
   "outputs": [],
   "source": [
    "prompt_tmpl = PromptTemplate(\n",
    "    template=template,\n",
    "    template_var_mappings={\"query_str\": \"question\", \"context_str\": \"context\"},\n",
    ")"
   ]
  },
  {
   "cell_type": "code",
   "execution_count": 31,
   "metadata": {},
   "outputs": [],
   "source": [
    "node_parser = SentenceWindowNodeParser.from_defaults(\n",
    "    window_size=3,\n",
    "    window_metadata_key=\"window\",\n",
    "    original_text_metadata_key=\"original_text\",\n",
    ")"
   ]
  },
  {
   "cell_type": "code",
   "execution_count": 36,
   "metadata": {},
   "outputs": [
    {
     "name": "stderr",
     "output_type": "stream",
     "text": [
      "c:\\Users\\shree\\AppData\\Local\\Programs\\Python\\Python311\\Lib\\site-packages\\sentence_transformers\\cross_encoder\\CrossEncoder.py:11: TqdmExperimentalWarning: Using `tqdm.autonotebook.tqdm` in notebook mode. Use `tqdm.tqdm` instead to force console mode (e.g. in jupyter console)\n",
      "  from tqdm.autonotebook import tqdm, trange\n"
     ]
    },
    {
     "name": "stdout",
     "output_type": "stream",
     "text": [
      "WARNING:tensorflow:From c:\\Users\\shree\\AppData\\Local\\Programs\\Python\\Python311\\Lib\\site-packages\\keras\\src\\losses.py:2976: The name tf.losses.sparse_softmax_cross_entropy is deprecated. Please use tf.compat.v1.losses.sparse_softmax_cross_entropy instead.\n",
      "\n"
     ]
    }
   ],
   "source": [
    "retriever = VectorIndexRetriever(\n",
    "    index=index,\n",
    "    similarity_top_k=5\n",
    ")\n",
    "\n",
    "rerank = SentenceTransformerRerank(\n",
    "    top_n = 5, \n",
    "     model = \"BAAI/bge-reranker-base\"\n",
    " )\n",
    "postproc = MetadataReplacementPostProcessor(target_metadata_key=\"window\")\n",
    "\n",
    "response_synthesizer = get_response_synthesizer()\n",
    "\n",
    "query_engine = RetrieverQueryEngine(\n",
    "    retriever=retriever,\n",
    "    response_synthesizer=response_synthesizer,node_postprocessors=[rerank,postproc]\n",
    ")\n",
    "\n",
    "query_engine.update_prompts(\n",
    "    {\"response_synthesizer:text_qa_template\":prompt_tmpl}\n",
    ")"
   ]
  },
  {
   "cell_type": "code",
   "execution_count": 77,
   "metadata": {},
   "outputs": [],
   "source": [
    "question=\"Who are the parties to the agreement?\""
   ]
  },
  {
   "cell_type": "code",
   "execution_count": 78,
   "metadata": {},
   "outputs": [],
   "source": [
    "streaming_response = query_engine.query(question)"
   ]
  },
  {
   "cell_type": "code",
   "execution_count": 89,
   "metadata": {},
   "outputs": [
    {
     "name": "stdout",
     "output_type": "stream",
     "text": [
      "\n",
      "Document 1: BPP_Bright final agreement_SPB signature_5.13.19 (15)\n",
      "The parties to the agreement mentioned in this document are NATIONAL BROKER PORTAL, LLC, Homesnap, and Bright MLS Inc.\n",
      "\n",
      "Document 2: Bright CoreLogic Infonet Agreement (Executed)\n",
      "I don't know.\n",
      "\n",
      "Document 3: CC_Bright_Clear Capital Access and License Agreement_FINAL - 20210728\n",
      "I don't know.\n",
      "\n",
      "Document 4: Signed ShowingTime for the MLS Agreement with Bright MLS 1.1.18 (4)\n",
      "The parties to the agreement mentioned in this document are ShowingTime™ (the provider) and Bright MLS (the client).\n",
      "\n"
     ]
    }
   ],
   "source": [
    "print(streaming_response)"
   ]
  },
  {
   "cell_type": "code",
   "execution_count": 40,
   "metadata": {},
   "outputs": [],
   "source": [
    "question1=\"What is the name of the agreement?\""
   ]
  },
  {
   "cell_type": "code",
   "execution_count": 41,
   "metadata": {},
   "outputs": [],
   "source": [
    "streaming_response = query_engine.query(question1)"
   ]
  },
  {
   "cell_type": "code",
   "execution_count": 42,
   "metadata": {},
   "outputs": [
    {
     "name": "stdout",
     "output_type": "stream",
     "text": [
      "Document 1: BPP_Bright final agreement_SPB signature_5.13.19 (15)\n",
      "Document 2: Bright CoreLogic Infonet Agreement (Executed)\n",
      "Document 3: CC_Bright_Clear Capital Access and License Agreement_FINAL - 20210728\n",
      "Document 4: Signed ShowingTime for the MLS Agreement with Bright MLS 1.1.18 (4)\n",
      "\n",
      "The name of the agreement is not mentioned in the provided context.\n"
     ]
    }
   ],
   "source": [
    "print(streaming_response)"
   ]
  },
  {
   "cell_type": "code",
   "execution_count": 82,
   "metadata": {},
   "outputs": [],
   "source": [
    "question1=\"What are the parties referred to in the agreement?\""
   ]
  },
  {
   "cell_type": "code",
   "execution_count": 83,
   "metadata": {},
   "outputs": [],
   "source": [
    "streaming_response = query_engine.query(question1)"
   ]
  },
  {
   "cell_type": "code",
   "execution_count": 86,
   "metadata": {},
   "outputs": [
    {
     "name": "stdout",
     "output_type": "stream",
     "text": [
      "\n",
      "Document 1: BPP_Bright final agreement_SPB signature_5.13.19 (15)\n",
      "The parties referred to in the agreement are NATIONAL BROKER PORTAL, LLC, Homesnap, and Bright MLS Inc.\n",
      "\n",
      "Document 2: Bright CoreLogic Infonet Agreement (Executed)\n",
      "I don't know.\n",
      "\n",
      "Document 3: CC_Bright_Clear Capital Access and License Agreement_FINAL - 20210728\n",
      "I don't know.\n",
      "\n",
      "Document 4: Signed ShowingTime for the MLS Agreement with Bright MLS 1.1.18 (4)\n",
      "The parties referred to in the agreement are ShowingTime™ (the provider) and Bright MLS (the client).\n",
      "\n"
     ]
    }
   ],
   "source": [
    "print(streaming_response)"
   ]
  },
  {
   "cell_type": "code",
   "execution_count": 46,
   "metadata": {},
   "outputs": [],
   "source": [
    "question2=\"What is the effective date of the agreement?\""
   ]
  },
  {
   "cell_type": "code",
   "execution_count": 47,
   "metadata": {},
   "outputs": [],
   "source": [
    "streaming_response = query_engine.query(question2)"
   ]
  },
  {
   "cell_type": "code",
   "execution_count": 48,
   "metadata": {},
   "outputs": [
    {
     "name": "stdout",
     "output_type": "stream",
     "text": [
      "Document 1: BPP_Bright final agreement_SPB signature_5.13.19 (15)\n",
      "The effective date of the agreement is July 2017.\n",
      "\n",
      "Document 2: Bright CoreLogic Infonet Agreement (Executed)\n",
      "I don't know.\n",
      "\n",
      "Document 3: CC_Bright_Clear Capital Access and License Agreement_FINAL - 20210728\n",
      "I don't know.\n",
      "\n",
      "Document 4: Signed ShowingTime for the MLS Agreement with Bright MLS 1.1.18 (4)\n",
      "I don't know.\n"
     ]
    }
   ],
   "source": [
    "print(streaming_response)"
   ]
  },
  {
   "cell_type": "code",
   "execution_count": 49,
   "metadata": {},
   "outputs": [],
   "source": [
    "question2=\"What's the date of last signature\""
   ]
  },
  {
   "cell_type": "code",
   "execution_count": 50,
   "metadata": {},
   "outputs": [],
   "source": [
    "streaming_response = query_engine.query(question2)"
   ]
  },
  {
   "cell_type": "code",
   "execution_count": 51,
   "metadata": {},
   "outputs": [
    {
     "name": "stdout",
     "output_type": "stream",
     "text": [
      "Document 1: BPP_Bright final agreement_SPB signature_5.13.19 (15)\n",
      "Date of last signature: 7/19/2017\n",
      "\n",
      "Document 2: Bright CoreLogic Infonet Agreement (Executed)\n",
      "Date of last signature: 5/13/2019\n",
      "\n",
      "Document 3: CC_Bright_Clear Capital Access and License Agreement_FINAL - 20210728\n",
      "Date of last signature: I don't know.\n",
      "\n",
      "Document 4: Signed ShowingTime for the MLS Agreement with Bright MLS 1.1.18 (4)\n",
      "Date of last signature: I don't know.\n"
     ]
    }
   ],
   "source": [
    "print(streaming_response)"
   ]
  },
  {
   "cell_type": "code",
   "execution_count": 52,
   "metadata": {},
   "outputs": [],
   "source": [
    "question2=\"What is the term of the agreement?\""
   ]
  },
  {
   "cell_type": "code",
   "execution_count": 53,
   "metadata": {},
   "outputs": [],
   "source": [
    "streaming_response = query_engine.query(question2)"
   ]
  },
  {
   "cell_type": "code",
   "execution_count": 54,
   "metadata": {},
   "outputs": [
    {
     "name": "stdout",
     "output_type": "stream",
     "text": [
      "Document 1: BPP_Bright final agreement_SPB signature_5.13.19 (15)\n",
      "The term of the agreement is defined as \"the period during which the terms and conditions of this Agreement are in full force and effect, as defined in Section 6.1.\"\n",
      "\n",
      "Document 2: Bright CoreLogic Infonet Agreement (Executed)\n",
      "I don't know.\n",
      "\n",
      "Document 3: CC_Bright_Clear Capital Access and License Agreement_FINAL - 20210728\n",
      "I don't know.\n",
      "\n",
      "Document 4: Signed ShowingTime for the MLS Agreement with Bright MLS 1.1.18 (4)\n",
      "I don't know.\n"
     ]
    }
   ],
   "source": [
    "print(streaming_response)"
   ]
  },
  {
   "cell_type": "code",
   "execution_count": 55,
   "metadata": {},
   "outputs": [],
   "source": [
    "question2=\"Will the term of the agreement be auto-renewed?\""
   ]
  },
  {
   "cell_type": "code",
   "execution_count": 56,
   "metadata": {},
   "outputs": [],
   "source": [
    "streaming_response = query_engine.query(question2)"
   ]
  },
  {
   "cell_type": "code",
   "execution_count": 57,
   "metadata": {},
   "outputs": [
    {
     "name": "stdout",
     "output_type": "stream",
     "text": [
      "Document 1: BPP_Bright final agreement_SPB signature_5.13.19 (15)\n",
      "The term of the agreement will be auto-renewed for successive one-year terms, unless either party provides a written ninety (90) day notice of termination to the other party. This information is mentioned in Section 6.1 of the document.\n",
      "\n",
      "Document 2: Bright CoreLogic Infonet Agreement (Executed)\n",
      "I don't know.\n",
      "\n",
      "Document 3: CC_Bright_Clear Capital Access and License Agreement_FINAL - 20210728\n",
      "I don't know.\n",
      "\n",
      "Document 4: Signed ShowingTime for the MLS Agreement with Bright MLS 1.1.18 (4)\n",
      "I don't know.\n"
     ]
    }
   ],
   "source": [
    "print(streaming_response)"
   ]
  },
  {
   "cell_type": "code",
   "execution_count": 58,
   "metadata": {},
   "outputs": [],
   "source": [
    "question2=\"What are the renewal provisions of the agreement?\""
   ]
  },
  {
   "cell_type": "code",
   "execution_count": 59,
   "metadata": {},
   "outputs": [],
   "source": [
    "streaming_response = query_engine.query(question2)"
   ]
  },
  {
   "cell_type": "code",
   "execution_count": 60,
   "metadata": {},
   "outputs": [
    {
     "name": "stdout",
     "output_type": "stream",
     "text": [
      "Document 1: BPP_Bright final agreement_SPB signature_5.13.19 (15)\n",
      "I don't know.\n",
      "\n",
      "Document 2: Bright CoreLogic Infonet Agreement (Executed)\n",
      "I don't know.\n",
      "\n",
      "Document 3: CC_Bright_Clear Capital Access and License Agreement_FINAL - 20210728\n",
      "I don't know.\n",
      "\n",
      "Document 4: Signed ShowingTime for the MLS Agreement with Bright MLS 1.1.18 (4)\n",
      "The renewal provisions of the agreement state that after the initial term of two years, the agreement will automatically renew for successive one-year terms, unless either party provides a written notice of termination at least sixty (60) days prior to the expiration of the initial term or the current renewal term.\n"
     ]
    }
   ],
   "source": [
    "print(streaming_response)"
   ]
  },
  {
   "cell_type": "code",
   "execution_count": 61,
   "metadata": {},
   "outputs": [],
   "source": [
    "question2=\"How far in advance must a party provide notice of its intention not to renew the agreement?\""
   ]
  },
  {
   "cell_type": "code",
   "execution_count": 62,
   "metadata": {},
   "outputs": [],
   "source": [
    "streaming_response = query_engine.query(question2)"
   ]
  },
  {
   "cell_type": "code",
   "execution_count": 63,
   "metadata": {},
   "outputs": [
    {
     "name": "stdout",
     "output_type": "stream",
     "text": [
      "Document 1: BPP_Bright final agreement_SPB signature_5.13.19 (15)\n",
      "I don't know.\n",
      "\n",
      "Document 2: Bright CoreLogic Infonet Agreement (Executed)\n",
      "I don't know.\n",
      "\n",
      "Document 3: CC_Bright_Clear Capital Access and License Agreement_FINAL - 20210728\n",
      "I don't know.\n",
      "\n",
      "Document 4: Signed ShowingTime for the MLS Agreement with Bright MLS 1.1.18 (4)\n",
      "I don't know.\n"
     ]
    }
   ],
   "source": [
    "print(streaming_response)"
   ]
  },
  {
   "cell_type": "code",
   "execution_count": 64,
   "metadata": {},
   "outputs": [],
   "source": [
    "question2=\"What are the requirements for providing notice?\""
   ]
  },
  {
   "cell_type": "code",
   "execution_count": 65,
   "metadata": {},
   "outputs": [],
   "source": [
    "streaming_response = query_engine.query(question2)"
   ]
  },
  {
   "cell_type": "code",
   "execution_count": 66,
   "metadata": {},
   "outputs": [
    {
     "name": "stdout",
     "output_type": "stream",
     "text": [
      "The requirements for providing notice are not mentioned in the provided context.\n"
     ]
    }
   ],
   "source": [
    "print(streaming_response)"
   ]
  },
  {
   "cell_type": "code",
   "execution_count": 67,
   "metadata": {},
   "outputs": [
    {
     "name": "stdout",
     "output_type": "stream",
     "text": [
      "The requirements for providing notice are not mentioned in the provided context.\n"
     ]
    }
   ],
   "source": [
    "print(streaming_response)"
   ]
  },
  {
   "cell_type": "code",
   "execution_count": 68,
   "metadata": {},
   "outputs": [],
   "source": [
    "question2=\"What address does each party have listed for notice?\""
   ]
  },
  {
   "cell_type": "code",
   "execution_count": 69,
   "metadata": {},
   "outputs": [],
   "source": [
    "streaming_response = query_engine.query(question2)"
   ]
  },
  {
   "cell_type": "code",
   "execution_count": 70,
   "metadata": {},
   "outputs": [
    {
     "name": "stdout",
     "output_type": "stream",
     "text": [
      "Document 1: BPP_Bright final agreement_SPB signature_5.13.19 (15)\n",
      "The address listed for notice for each party is as follows:\n",
      "- National Broker Portal, LLC: 7200 Wisconsin Avenue, Suite 200, Bethesda, MD 20814\n",
      "- Homesnap: 7200 Wisconsin Avenue, Suite 200, Bethesda, MD 20814\n",
      "- Bright MLS Inc.: 9707 Key West Ave, Suite 200, Rockville MD 20850\n",
      "\n",
      "Document 2: Bright CoreLogic Infonet Agreement (Executed)\n",
      "I don't know.\n",
      "\n",
      "Document 3: CC_Bright_Clear Capital Access and License Agreement_FINAL - 20210728\n",
      "I don't know.\n",
      "\n",
      "Document 4: Signed ShowingTime for the MLS Agreement with Bright MLS 1.1.18 (4)\n",
      "I don't know.\n"
     ]
    }
   ],
   "source": [
    "print(streaming_response)"
   ]
  },
  {
   "cell_type": "code",
   "execution_count": 71,
   "metadata": {},
   "outputs": [],
   "source": [
    "question2=\"What are the termination provisions?\""
   ]
  },
  {
   "cell_type": "code",
   "execution_count": 72,
   "metadata": {},
   "outputs": [],
   "source": [
    "streaming_response = query_engine.query(question2)"
   ]
  },
  {
   "cell_type": "code",
   "execution_count": 73,
   "metadata": {},
   "outputs": [
    {
     "name": "stdout",
     "output_type": "stream",
     "text": [
      "Document 1: BPP_Bright final agreement_SPB signature_5.13.19 (15)\n",
      "I don't know.\n",
      "\n",
      "Document 2: Bright CoreLogic Infonet Agreement (Executed)\n",
      "I don't know.\n",
      "\n",
      "Document 3: CC_Bright_Clear Capital Access and License Agreement_FINAL - 20210728\n",
      "I don't know.\n",
      "\n",
      "Document 4: Signed ShowingTime for the MLS Agreement with Bright MLS 1.1.18 (4)\n",
      "The termination provisions are outlined in Section 6.2 of the document. According to this section, the agreement can be terminated under the following circumstances:\n",
      "(a) At the end of any term, provided that either party provides at least 30 days' notice prior to the end of the term.\n",
      "(b) MLS may terminate the agreement with 180 days' written notice to NBP upon the dissolution of NBP or the exit of Broker Public Portal LLC from NBP.\n",
      "(c) 10 days after either party's notice to the other that the other has breached the agreement, provided the breach remains uncured.\n",
      "(d) Immediately upon any party's notice to the other that the other has breached the agreement, provided the breach is not susceptible to cure, is one of a pattern of repeated breaches, or has caused irreparable harm to the party giving notice.\n"
     ]
    }
   ],
   "source": [
    "print(streaming_response)"
   ]
  },
  {
   "cell_type": "code",
   "execution_count": 74,
   "metadata": {},
   "outputs": [],
   "source": [
    "question2=\"Can a party terminate for convenience?\""
   ]
  },
  {
   "cell_type": "code",
   "execution_count": 75,
   "metadata": {},
   "outputs": [],
   "source": [
    "streaming_response = query_engine.query(question2)"
   ]
  },
  {
   "cell_type": "code",
   "execution_count": 76,
   "metadata": {},
   "outputs": [
    {
     "name": "stdout",
     "output_type": "stream",
     "text": [
      "Document 1: BPP_Bright final agreement_SPB signature_5.13.19 (15)\n",
      "I don't know.\n",
      "\n",
      "Document 2: Bright CoreLogic Infonet Agreement (Executed)\n",
      "I don't know.\n",
      "\n",
      "Document 3: CC_Bright_Clear Capital Access and License Agreement_FINAL - 20210728\n",
      "I don't know.\n",
      "\n",
      "Document 4: Signed ShowingTime for the MLS Agreement with Bright MLS 1.1.18 (4)\n",
      "I don't know.\n"
     ]
    }
   ],
   "source": [
    "print(streaming_response)"
   ]
  }
 ],
 "metadata": {
  "kernelspec": {
   "display_name": "Python 3",
   "language": "python",
   "name": "python3"
  },
  "language_info": {
   "codemirror_mode": {
    "name": "ipython",
    "version": 3
   },
   "file_extension": ".py",
   "mimetype": "text/x-python",
   "name": "python",
   "nbconvert_exporter": "python",
   "pygments_lexer": "ipython3",
   "version": "3.11.5"
  }
 },
 "nbformat": 4,
 "nbformat_minor": 2
}
